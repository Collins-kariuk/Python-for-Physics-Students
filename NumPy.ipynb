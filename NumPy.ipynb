{
 "cells": [
  {
   "cell_type": "markdown",
   "metadata": {},
   "source": [
    "# Introduction"
   ]
  },
  {
   "cell_type": "markdown",
   "metadata": {},
   "source": [
    "NumPy, short for Numerical Python, is an __important__ package for scientific computing in Python. It provides support for arrays, matrices, and a large collection of mathematical functions to operate on these data structures. NumPy is highly efficient and allows for operations on large datasets with ease, making it an essential tool for scientific research.\n",
    "\n",
    "In the context of Physics research, NumPy is particularly useful for the following reasons:\n",
    "\n",
    "1. **Array Operations**: NumPy's array objects are more efficient and convenient than Python's built-in lists for numerical computations.\n",
    "2. **Mathematical Functions**: It includes a wide range of mathematical functions that are essential for physics calculations, such as linear algebra, Fourier transforms, and random number generation.\n",
    "3. **Data Handling**: NumPy can handle large datasets, which is common in physics experiments and simulations.\n",
    "4. **Interoperability**: It integrates well with other scientific computing libraries like SciPy, Matplotlib, and Pandas, providing a comprehensive ecosystem for data analysis and visualization.\n",
    "\n",
    "At the heart of NumPy lies the __ndarray__ object, which represents multidimensional arrays.\n",
    "\n",
    "For beginners in Physics research, learning NumPy can significantly enhance their ability to perform complex calculations, analyze experimental data, and visualize results effectively."
   ]
  },
  {
   "cell_type": "markdown",
   "metadata": {},
   "source": [
    "# Introduction to Arrays"
   ]
  },
  {
   "cell_type": "markdown",
   "metadata": {},
   "source": [
    "## What are NumPy Arrays?"
   ]
  },
  {
   "cell_type": "markdown",
   "metadata": {},
   "source": [
    "Arrays are a fundamental data structure in programming that allow you to store multiple values in a single variable. They are particularly useful for handling collections of data that need to be processed in a uniform manner. In Python, arrays are commonly referred to as lists, but NumPy provides a more efficient and powerful alternative called NumPy arrays or `ndarrays`.\n",
    "\n",
    "NumPy arrays, or `ndarrays`, are a powerful feature of the NumPy library in Python. They provide a more efficient and convenient way to handle large datasets compared to Python's built-in lists. Here are some key characteristics of NumPy arrays:\n",
    "\n",
    "1. **Homogeneous Data**: All elements in a NumPy array are of the same data type, which allows for efficient memory usage and faster computations.\n",
    "2. **Multidimensional**: NumPy arrays can have multiple dimensions, making them ideal for representing matrices and other higher-dimensional data structures. Dimensions refer to the number of indices required to locate an element within the array. For example, a 1D array has one dimension, a 2D array has two dimensions, and so on. In the context of linear algebra, a 2D array represents a matrix, while in programming terms, it can be thought of as a list of lists.\n",
    "3. **Vectorized Operations**: NumPy allows you to perform element-wise operations on arrays without using loops, making your code shorter and easier to read.\n",
    "4. **Broadcasting**: NumPy arrays support broadcasting, a feature that allows you to perform arithmetic operations on arrays of different shapes in a flexible manner.\n",
    "5. **Integration with Other Libraries**: NumPy arrays form the backbone of many other scientific computing libraries in Python, including Pandas and Matplotlib (which we’ve already discussed) and SciPy (which we’ll touch on briefly later).\n"
   ]
  },
  {
   "cell_type": "markdown",
   "metadata": {},
   "source": [
    "## Creating NumPy Arrays"
   ]
  },
  {
   "cell_type": "markdown",
   "metadata": {},
   "source": [
    "Creating arrays is the first step to using NumPy for scientific computing. NumPy provides several functions to create arrays of different shapes and types, filled with different values.\n",
    "\n",
    "Here are some common ways to create NumPy arrays:\n",
    "\n",
    "1. **From Python Lists**: You can create a NumPy array from a Python list or tuple using the `np.array()` function. This is useful when you have existing data in a list or tuple format that you want to convert to a NumPy array.\n",
    "\n",
    "2. **Using Built-in Functions**: NumPy provides several built-in functions to create arrays with specific values:\n",
    "    - `np.zeros(shape)`: Creates an array filled with zeros. The `shape` parameter specifies the dimensions of the array.\n",
    "    - `np.ones(shape)`: Creates an array filled with ones. The `shape` parameter specifies the dimensions of the array.\n",
    "    - `np.arange(start, stop, step)`: Creates an array with a range of values from `start` to `stop` (exclusive) with a given `step`.\n",
    "    - `np.linspace(start, stop, num)`: Creates an array with `num` evenly spaced values between `start` and `stop` (inclusive).\n",
    "\n",
    "3. **Random Arrays**: NumPy also provides functions to create arrays with random values, which are useful for simulations and testing:\n",
    "    - `np.random.rand(d0, d1, ..., dn)`: Creates an array of the given shape and populates it with random samples from a uniform distribution over [0, 1).\n",
    "    - `np.random.randn(d0, d1, ..., dn)`: Creates an array of the given shape and populates it with random samples from a standard normal distribution (mean 0, variance 1).\n",
    "\n",
    "4. **Identity and Diagonal Arrays**: For linear algebra operations, you might need identity matrices or diagonal matrices:\n",
    "    - `np.eye(N)`: Creates a 2D array with ones on the diagonal and zeros elsewhere (identity matrix).\n",
    "    - `np.diag(v)`: Creates a 2D array with the elements of `v` on the diagonal and zeros elsewhere.\n",
    "\n",
    "By using these functions, you can create arrays that suit your specific needs for data analysis, simulations, and other scientific computations."
   ]
  },
  {
   "cell_type": "code",
   "execution_count": 5,
   "metadata": {},
   "outputs": [
    {
     "name": "stdout",
     "output_type": "stream",
     "text": [
      "1D Array: [1 2 3 4 5]\n",
      "2D Array:\n",
      " [[1 2 3]\n",
      " [4 5 6]]\n",
      "Array of Zeros:\n",
      " [[0. 0. 0.]\n",
      " [0. 0. 0.]\n",
      " [0. 0. 0.]]\n",
      "Array of Ones:\n",
      " [[1. 1. 1. 1.]\n",
      " [1. 1. 1. 1.]]\n",
      "Array with Range of Values: [10 11 12 13 14 15 16 17 18 19]\n",
      "Array with Evenly Spaced Values: [0.   0.25 0.5  0.75 1.  ]\n"
     ]
    }
   ],
   "source": [
    "import numpy as np\n",
    "\n",
    "# Creating a 1D array\n",
    "array_1d = np.array([1, 2, 3, 4, 5])\n",
    "print(\"1D Array:\", array_1d)\n",
    "\n",
    "# Creating a 2D array\n",
    "array_2d = np.array([[1, 2, 3], [4, 5, 6]])\n",
    "print(\"2D Array:\\n\", array_2d)\n",
    "\n",
    "# Creating an array of zeros\n",
    "array_zeros = np.zeros((3, 3))\n",
    "print(\"Array of Zeros:\\n\", array_zeros)\n",
    "\n",
    "# Creating an array of ones\n",
    "array_ones = np.ones((2, 4))\n",
    "print(\"Array of Ones:\\n\", array_ones)\n",
    "\n",
    "# Creating an array with a range of values\n",
    "array_range = np.arange(10, 20)\n",
    "print(\"Array with Range of Values:\", array_range)\n",
    "\n",
    "# Creating an array with evenly spaced values\n",
    "array_linspace = np.linspace(0, 1, 5)\n",
    "print(\"Array with Evenly Spaced Values:\", array_linspace)"
   ]
  },
  {
   "cell_type": "markdown",
   "metadata": {},
   "source": [
    "## Reshaping Arrays"
   ]
  },
  {
   "cell_type": "markdown",
   "metadata": {},
   "source": [
    "Reshaping arrays is an important operation in NumPy that allows you to change the shape of an existing array without altering its data. This is particularly useful when you need to perform matrix operations or simply reorganize data for better readability."
   ]
  },
  {
   "cell_type": "markdown",
   "metadata": {},
   "source": [
    "### Reshaping with `reshape()`"
   ]
  },
  {
   "cell_type": "markdown",
   "metadata": {},
   "source": [
    "The `reshape()` function in NumPy allows you to change the shape of an array. The new shape must be compatible with the original shape, meaning the total number of elements must remain the same.\n",
    "\n",
    "For example, you can reshape a 1D array into a 2D array:"
   ]
  },
  {
   "cell_type": "code",
   "execution_count": 6,
   "metadata": {},
   "outputs": [
    {
     "name": "stdout",
     "output_type": "stream",
     "text": [
      "1D Array:\n",
      " [1 2 3 4 5 6 7 8 9]\n",
      "2D Array:\n",
      " [[1 2 3]\n",
      " [4 5 6]\n",
      " [7 8 9]]\n"
     ]
    }
   ],
   "source": [
    "# Reshaping an array\n",
    "\n",
    "# Creating a 1D array\n",
    "array_1d = np.arange(1, 10)\n",
    "\n",
    "# Reshaping the 1D array to a 2D array\n",
    "array_2d = array_1d.reshape(3, 3)\n",
    "\n",
    "print(\"1D Array:\\n\", array_1d)\n",
    "\n",
    "print(\"2D Array:\\n\", array_2d)"
   ]
  },
  {
   "cell_type": "markdown",
   "metadata": {},
   "source": [
    "## Indexing and Slicing"
   ]
  },
  {
   "cell_type": "markdown",
   "metadata": {},
   "source": [
    "Indexing and slicing are fundamental operations for accessing and manipulating elements in NumPy arrays. These operations allow you to retrieve specific elements, rows, columns, or subarrays from a larger array. Understanding how indexing and slicing work is essential for working with NumPy arrays effectively."
   ]
  },
  {
   "cell_type": "markdown",
   "metadata": {},
   "source": [
    "### Indexing\n",
    "\n",
    "Indexing in NumPy works similarly to indexing in Python lists, but with additional capabilities for multidimensional arrays. You can use square brackets `[]` to access individual elements or slices of an array. The key points to remember are:\n",
    "\n",
    "1. **Indexing Starts at 0**: The index of the first element in an array is 0, not 1.\n",
    "2. **Negative Indexing**: You can use negative indices to access elements from the end of the array.\n",
    "3. **Multidimensional Indexing**: In multidimensional arrays, you can use a tuple of indices to access elements along each axis. For example, in a 2D array, array[i, j] retrieves the element located at row i and column j."
   ]
  },
  {
   "cell_type": "markdown",
   "metadata": {},
   "source": [
    "#### 1D Array Indexing\n",
    "\n",
    "For a 1D array, you can access elements using their index positions:"
   ]
  },
  {
   "cell_type": "code",
   "execution_count": 11,
   "metadata": {},
   "outputs": [
    {
     "name": "stdout",
     "output_type": "stream",
     "text": [
      "1\n",
      "5\n",
      "1\n",
      "6\n",
      "6\n"
     ]
    }
   ],
   "source": [
    "import numpy as np\n",
    "\n",
    "arr = np.array([1, 2, 3, 4, 5])\n",
    "print(arr[0]) # Output: 1\n",
    "print(arr[-1]) # Output: 5\n",
    "\n",
    "array_2d = np.array([[1, 2, 3], [4, 5, 6]])\n",
    "print(array_2d[0, 0]) # Output: 1\n",
    "print(array_2d[1, 2]) # Output: 6\n",
    "print(array_2d[1, -1]) # Output: 6"
   ]
  },
  {
   "cell_type": "markdown",
   "metadata": {},
   "source": [
    "### Slicing"
   ]
  },
  {
   "cell_type": "markdown",
   "metadata": {},
   "source": [
    "Slice notation in NumPy allows you to extract subarrays from an array by specifying a range of indices. Slicing is a powerful feature that enables you to work with subsets of data without copying the original array. The basic syntax for slicing is `start:stop:step`, where `start` is the starting index, `stop` is the stopping index (exclusive), and `step` is the step size."
   ]
  },
  {
   "cell_type": "code",
   "execution_count": 12,
   "metadata": {},
   "outputs": [
    {
     "name": "stdout",
     "output_type": "stream",
     "text": [
      "[1 2]\n",
      "[5 6]\n",
      "[2 5]\n"
     ]
    }
   ],
   "source": [
    "array_2d = np.array([[1, 2, 3], [4, 5, 6]])\n",
    "\n",
    "# Slicing the array\n",
    "sliced_array = array_2d[0, 0:2]\n",
    "print(sliced_array) # Output: [1 2]\n",
    "\n",
    "sliced_array = array_2d[1, 1:]\n",
    "print(sliced_array) # Output: [5 6]\n",
    "\n",
    "sliced_array = array_2d[:, 1]\n",
    "print(sliced_array) # Output: [2 5]"
   ]
  },
  {
   "cell_type": "markdown",
   "metadata": {},
   "source": [
    "💡 Notice in the last example that to access the second column of a 2D array, you can use `print(array[:, 1])`, which retrieves all rows of the second column. Similarly, to access the second row, you can use `print(array[1, :])`, which retrieves all columns of the second row."
   ]
  },
  {
   "cell_type": "markdown",
   "metadata": {},
   "source": []
  }
 ],
 "metadata": {
  "kernelspec": {
   "display_name": "myenv",
   "language": "python",
   "name": "python3"
  },
  "language_info": {
   "codemirror_mode": {
    "name": "ipython",
    "version": 3
   },
   "file_extension": ".py",
   "mimetype": "text/x-python",
   "name": "python",
   "nbconvert_exporter": "python",
   "pygments_lexer": "ipython3",
   "version": "3.8.20"
  }
 },
 "nbformat": 4,
 "nbformat_minor": 2
}
