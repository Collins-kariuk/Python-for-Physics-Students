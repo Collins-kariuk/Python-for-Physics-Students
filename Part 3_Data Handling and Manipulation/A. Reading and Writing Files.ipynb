{
 "cells": [
  {
   "cell_type": "markdown",
   "metadata": {},
   "source": [
    "# Introduction"
   ]
  },
  {
   "cell_type": "markdown",
   "metadata": {},
   "source": [
    "Effectively managing large datasets is a vital skill in scientific computing, as encountering datasets that exceed manageable sizes is a common occurrence. From reading experimental measurements and analyzing extensive datasets to exporting results, Python offers a flexible and powerful set of tools for file handling. This section explores techniques for reading, processing, and writing files in commonly used formats, with Physics-inspired examples to make the concepts practical and accessible."
   ]
  },
  {
   "cell_type": "markdown",
   "metadata": {},
   "source": [
    "## Loading and Saving CSV Files"
   ]
  },
  {
   "cell_type": "markdown",
   "metadata": {},
   "source": [
    "CSV files are a widely used format for storing structured data in a tabular form, where rows represent individual records and columns represent different variables. The values are separated by commas, hence the name: Comma-Separated Values.\n",
    "\n",
    "In practice, you may encounter CSV files when handling experimental measurements, simulation outputs, or datasets from online sources. Their simplicity and broad compatibility make them a popular choice for data storage.\n",
    "\n",
    "Python provides two main tools for working with CSV files:\n",
    "\n",
    "- the built-in csv module and\n",
    "- the Pandas library."
   ]
  },
  {
   "cell_type": "markdown",
   "metadata": {},
   "source": [
    "### Using the csv Module"
   ]
  },
  {
   "cell_type": "markdown",
   "metadata": {},
   "source": [
    "A module, simply put, is a file containing Python code that can include functions, classes, and variables. A Python file qualifies as a module if it contains code that can be executed. For example, the csv module offers convenient functionality for both reading and writing CSV files through straightforward methods."
   ]
  },
  {
   "cell_type": "markdown",
   "metadata": {},
   "source": [
    "### Reading a csv file"
   ]
  },
  {
   "cell_type": "code",
   "execution_count": 4,
   "metadata": {},
   "outputs": [
    {
     "name": "stdout",
     "output_type": "stream",
     "text": [
      "['Time', 'Position']\n",
      "['0', '0']\n",
      "['1', '5']\n",
      "['2', '20']\n",
      "['3', '45']\n",
      "['4', '80']\n",
      "['5', '100']\n"
     ]
    }
   ],
   "source": [
    "import csv # import the csv module\n",
    "\n",
    "# open and read a CSV file\n",
    "with open('data.csv', mode = 'r', encoding = \"utf-8-sig\") as file:\n",
    "    \"\"\"\n",
    "    mode = 'r' is for reading\n",
    "    encoding = \"utf-8-sig\" is for encoding the file. This is\n",
    "    important for files that have special characters and is\n",
    "    good practice to include it.\n",
    "    \"\"\"\n",
    "\n",
    "    reader = csv.reader(file) # create a reader object\n",
    "    for row in reader: # iterate over the rows in the file\n",
    "        print(row)\n",
    "        # print(row[0], row[1], row[2])"
   ]
  },
  {
   "cell_type": "markdown",
   "metadata": {},
   "source": [
    "The `csv.reader()` function reads the contents of a CSV file and returns an iterable object, allowing you to loop through the data row by row. In the example above, it demonstrates how to read a CSV file named data.csv and print its contents. Essentially, the `csv.reader()` function takes a file object as an argument and returns a reader object (similar to a list of lists) that can be iterated over to access the data.\n",
    "\n",
    "To read a CSV file in Python, follow these steps:\n",
    "1. Open the file using the `open()` function in the appropriate mode (e.g., 'r' for reading), and use the `with` statement to ensure the file is automatically closed after use.\n",
    "2. Create a reader object using the `csv.reader()` function to process the file’s contents.\n",
    "3. Iterate over the reader object to access the data row by row.\n",
    "\n",
    "The `with` statement is essential when working with files, as it ensures the file is properly closed once the code block is executed. Without it, the file may remain open, potentially causing issues like memory leaks. Using the `with` statement is a best practice for file handling in Python.\n",
    "\n",
    "This approach allows you to handle simple CSV files without needing external libraries. However, for more advanced operations, the Pandas library provides a more powerful and flexible option."
   ]
  },
  {
   "cell_type": "markdown",
   "metadata": {},
   "source": [
    "### Writing to a csv file"
   ]
  },
  {
   "cell_type": "markdown",
   "metadata": {},
   "source": [
    "You can write data to a CSV file using the `csv.writer()` function, which creates a writer object to handle the output. This writer object provides methods like `writerow()` for writing a single row and `writerows()` for writing multiple rows at once. For example, imagine you have a list of experimental measurements that you want to save to a CSV file. You might start by adding a header row to label the columns, which can be done by writing a list of column names before the data. Then, you can write the measurements to a file, such as results.csv, using the `csv.writer()` function to organize and save the data effectively."
   ]
  },
  {
   "cell_type": "code",
   "execution_count": 7,
   "metadata": {},
   "outputs": [],
   "source": [
    "import csv\n",
    "new_data = [[\"Time\", \"Position\"], [0, 0], [1, 5], [2, 20]] # data to write to the file\n",
    "\n",
    "with open(\"output.csv\", mode=\"w\", newline=\"\") as file: # open the file\n",
    "    csv_writer = csv.writer(file) # create a writer object\n",
    "    csv_writer.writerows(new_data) # write the data to the file"
   ]
  },
  {
   "cell_type": "markdown",
   "metadata": {},
   "source": [
    "In the scenario above, the `csv.writer()` function takes a file object and an optional `delimiter` argument (defaulting to a comma) to specify the character used to separate values. The `writerow()` method writes a single row to the CSV file, while the `writerows()` method writes multiple rows at once. By following these steps, you can write data to a CSV file in Python."
   ]
  },
  {
   "cell_type": "markdown",
   "metadata": {},
   "source": []
  }
 ],
 "metadata": {
  "kernelspec": {
   "display_name": "myenv",
   "language": "python",
   "name": "python3"
  },
  "language_info": {
   "codemirror_mode": {
    "name": "ipython",
    "version": 3
   },
   "file_extension": ".py",
   "mimetype": "text/x-python",
   "name": "python",
   "nbconvert_exporter": "python",
   "pygments_lexer": "ipython3",
   "version": "3.8.20"
  }
 },
 "nbformat": 4,
 "nbformat_minor": 2
}
