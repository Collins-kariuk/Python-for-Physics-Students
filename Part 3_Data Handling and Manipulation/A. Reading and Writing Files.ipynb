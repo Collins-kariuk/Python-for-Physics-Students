{
 "cells": [
  {
   "cell_type": "markdown",
   "metadata": {},
   "source": [
    "# Introduction"
   ]
  },
  {
   "cell_type": "markdown",
   "metadata": {},
   "source": [
    "Effectively managing large datasets is a vital skill in scientific computing, as encountering datasets that exceed manageable sizes is a common occurrence. From reading experimental measurements and analyzing extensive datasets to exporting results, Python offers a flexible and powerful set of tools for file handling. This section explores techniques for reading, processing, and writing files in commonly used formats, with Physics-inspired examples to make the concepts practical and accessible."
   ]
  },
  {
   "cell_type": "markdown",
   "metadata": {},
   "source": [
    "## Loading and Saving CSV Files"
   ]
  },
  {
   "cell_type": "markdown",
   "metadata": {},
   "source": [
    "CSV files are a widely used format for storing structured data in a tabular form, where rows represent individual records and columns represent different variables. The values are separated by commas, hence the name: Comma-Separated Values.\n",
    "\n",
    "In practice, you may encounter CSV files when handling experimental measurements, simulation outputs, or datasets from online sources. Their simplicity and broad compatibility make them a popular choice for data storage.\n",
    "\n",
    "Python provides two main tools for working with CSV files:\n",
    "\n",
    "- the built-in csv module and\n",
    "- the Pandas library."
   ]
  },
  {
   "cell_type": "markdown",
   "metadata": {},
   "source": [
    "### Using the csv Module"
   ]
  },
  {
   "cell_type": "markdown",
   "metadata": {},
   "source": [
    "A module, simply put, is a file containing Python code that can include functions, classes, and variables. A Python file qualifies as a module if it contains code that can be executed. For example, the csv module offers convenient functionality for both reading and writing CSV files through straightforward methods."
   ]
  },
  {
   "cell_type": "code",
   "execution_count": 4,
   "metadata": {},
   "outputs": [
    {
     "name": "stdout",
     "output_type": "stream",
     "text": [
      "['Time', 'Position']\n",
      "['0', '0']\n",
      "['1', '5']\n",
      "['2', '20']\n",
      "['3', '45']\n",
      "['4', '80']\n",
      "['5', '100']\n"
     ]
    }
   ],
   "source": [
    "# Reading a csv file\n",
    "\n",
    "import csv # import the csv module\n",
    "\n",
    "# open and read a CSV file\n",
    "with open('data.csv', mode = 'r', encoding = \"utf-8-sig\") as file:\n",
    "    \"\"\"\n",
    "    mode = 'r' is for reading\n",
    "    encoding = \"utf-8-sig\" is for encoding the file. This is\n",
    "    important for files that have special characters and is good \n",
    "    practice to include it.\n",
    "    \"\"\"\n",
    "\n",
    "    reader = csv.reader(file)\n",
    "    for row in reader:\n",
    "        print(row)\n",
    "        # print(row[0], row[1], row[2])"
   ]
  },
  {
   "cell_type": "code",
   "execution_count": null,
   "metadata": {},
   "outputs": [],
   "source": []
  }
 ],
 "metadata": {
  "kernelspec": {
   "display_name": "myenv",
   "language": "python",
   "name": "python3"
  },
  "language_info": {
   "codemirror_mode": {
    "name": "ipython",
    "version": 3
   },
   "file_extension": ".py",
   "mimetype": "text/x-python",
   "name": "python",
   "nbconvert_exporter": "python",
   "pygments_lexer": "ipython3",
   "version": "3.8.20"
  }
 },
 "nbformat": 4,
 "nbformat_minor": 2
}
