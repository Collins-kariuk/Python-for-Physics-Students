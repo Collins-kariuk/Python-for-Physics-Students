{
 "cells": [
  {
   "cell_type": "markdown",
   "metadata": {},
   "source": [
    "# Introduction"
   ]
  },
  {
   "cell_type": "markdown",
   "metadata": {},
   "source": [
    "Pandas is a highly versatile Python library for data manipulation and analysis, built on top of the NumPy package. Its core data structures, __Series__ and __DataFrame__, are specifically designed to handle structured data.\n",
    "\n",
    "A DataFrame organizes data into rows (of observations) and columns (of variables), making it ideal for storing and processing tabular data. Pandas’s efficiency and flexibility have made it an essential tool for researchers and physicists like yourself 😁"
   ]
  },
  {
   "cell_type": "markdown",
   "metadata": {},
   "source": [
    "## What is a DataFrame?"
   ]
  },
  {
   "cell_type": "markdown",
   "metadata": {},
   "source": [
    "A DataFrame is a two-dimensional, labeled data structure in Pandas, with columns that can hold data of different types. It’s similar to a spreadsheet. As one of the most commonly used Pandas objects, a DataFrame organizes data into:\n",
    "- __Rows__: Representing individual records or observations.\n",
    "- __Columns__: Representing variables or attributes."
   ]
  },
  {
   "cell_type": "markdown",
   "metadata": {},
   "source": [
    "### Creating a DataFrame"
   ]
  },
  {
   "cell_type": "markdown",
   "metadata": {},
   "source": [
    "A DataFrame can be created from various data types, including lists, dictionaries, NumPy arrays, or external sources such as CSV and Excel files."
   ]
  },
  {
   "cell_type": "code",
   "execution_count": 2,
   "metadata": {},
   "outputs": [
    {
     "name": "stdout",
     "output_type": "stream",
     "text": [
      "   Time (s)  Position (m)  Velocity (m/s)\n",
      "0         0             0               0\n",
      "1         1             5               5\n",
      "2         2            20              10\n",
      "3         3            45              15\n"
     ]
    }
   ],
   "source": [
    "# Creating a DataFrame from a Dictionary\n",
    "\n",
    "import pandas as pd\n",
    "\n",
    "# Sample data\n",
    "data = {\n",
    "    \"Time (s)\": [0, 1, 2, 3],\n",
    "    \"Position (m)\": [0, 5, 20, 45],\n",
    "    \"Velocity (m/s)\": [0, 5, 10, 15]\n",
    "}\n",
    "\n",
    "# Create a DataFrame\n",
    "df = pd.DataFrame(data)\n",
    "\n",
    "print(df)"
   ]
  },
  {
   "cell_type": "code",
   "execution_count": 3,
   "metadata": {},
   "outputs": [
    {
     "name": "stdout",
     "output_type": "stream",
     "text": [
      "   Time  Position\n",
      "0     0         0\n",
      "1     1         5\n",
      "2     2        20\n",
      "3     3        45\n",
      "4     4        80\n"
     ]
    }
   ],
   "source": [
    "# Loading a DataFrame from a CSV File\n",
    "\n",
    "import pandas as pd\n",
    "\n",
    "# Load data from a CSV file\n",
    "df = pd.read_csv(\"data.csv\")\n",
    "print(df.head()) # Display the first 5 rows"
   ]
  },
  {
   "cell_type": "code",
   "execution_count": null,
   "metadata": {},
   "outputs": [],
   "source": []
  }
 ],
 "metadata": {
  "kernelspec": {
   "display_name": "myenv",
   "language": "python",
   "name": "python3"
  },
  "language_info": {
   "codemirror_mode": {
    "name": "ipython",
    "version": 3
   },
   "file_extension": ".py",
   "mimetype": "text/x-python",
   "name": "python",
   "nbconvert_exporter": "python",
   "pygments_lexer": "ipython3",
   "version": "3.8.20"
  }
 },
 "nbformat": 4,
 "nbformat_minor": 2
}
