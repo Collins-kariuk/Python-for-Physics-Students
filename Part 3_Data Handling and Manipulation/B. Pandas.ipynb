{
 "cells": [
  {
   "cell_type": "markdown",
   "metadata": {},
   "source": [
    "# Introduction"
   ]
  },
  {
   "cell_type": "markdown",
   "metadata": {},
   "source": [
    "Pandas is a highly versatile Python library for data manipulation and analysis, built on top of the NumPy package. Its core data structures, __Series__ and __DataFrame__, are specifically designed to handle structured data.\n",
    "\n",
    "A DataFrame organizes data into rows (of observations) and columns (of variables), making it ideal for storing and processing tabular data. Pandas’s efficiency and flexibility have made it an essential tool for researchers and physicists like yourself 😁"
   ]
  },
  {
   "cell_type": "markdown",
   "metadata": {},
   "source": [
    "## What is a DataFrame?"
   ]
  },
  {
   "cell_type": "markdown",
   "metadata": {},
   "source": [
    "A DataFrame is a two-dimensional, labeled data structure in Pandas, with columns that can hold data of different types. It’s similar to a spreadsheet. As one of the most commonly used Pandas objects, a DataFrame organizes data into:\n",
    "- __Rows__: Representing individual records or observations.\n",
    "- __Columns__: Representing variables or attributes."
   ]
  },
  {
   "cell_type": "markdown",
   "metadata": {},
   "source": [
    "### Creating a DataFrame"
   ]
  },
  {
   "cell_type": "markdown",
   "metadata": {},
   "source": [
    "A DataFrame can be created from various data types, including lists, dictionaries, NumPy arrays, or external sources such as CSV and Excel files."
   ]
  },
  {
   "cell_type": "code",
   "execution_count": 2,
   "metadata": {},
   "outputs": [
    {
     "name": "stdout",
     "output_type": "stream",
     "text": [
      "   Time (s)  Position (m)  Velocity (m/s)\n",
      "0         0             0               0\n",
      "1         1             5               5\n",
      "2         2            20              10\n",
      "3         3            45              15\n"
     ]
    }
   ],
   "source": [
    "# Creating a DataFrame from a Dictionary\n",
    "\n",
    "import pandas as pd\n",
    "\n",
    "# Sample data\n",
    "data = {\n",
    "    \"Time (s)\": [0, 1, 2, 3],\n",
    "    \"Position (m)\": [0, 5, 20, 45],\n",
    "    \"Velocity (m/s)\": [0, 5, 10, 15]\n",
    "}\n",
    "\n",
    "# Create a DataFrame\n",
    "df = pd.DataFrame(data)\n",
    "\n",
    "print(df)"
   ]
  },
  {
   "cell_type": "code",
   "execution_count": 14,
   "metadata": {},
   "outputs": [],
   "source": [
    "# Loading a DataFrame from a CSV File\n",
    "\n",
    "import pandas as pd\n",
    "\n",
    "# Load data from a CSV file\n",
    "df = pd.read_csv(\"data.csv\")\n",
    "# print(df) # Display the DataFrame\n",
    "# print(df.head()) # Display the first 5 rows"
   ]
  },
  {
   "cell_type": "markdown",
   "metadata": {},
   "source": [
    "## Inspecting DataFrames"
   ]
  },
  {
   "cell_type": "markdown",
   "metadata": {},
   "source": [
    "Pandas provides several functions to inspect the contents of a DataFrame, including:\n",
    "- `head()`: Displays the first few rows of a DataFrame, e.g., `df.head()` displays the first five rows (default is 5).\n",
    "- `tail()`: Displays the last few rows of a DataFrame.\n",
    "- `info()`: Displays a summary of the DataFrame, including the data types and missing values.\n",
    "- `describe()`: Displays a statistical summary of the DataFrame.\n",
    "- `shape`: Returns the dimensions of the DataFrame (rows, columns).\n",
    "- `columns`: Returns the column labels of the DataFrame.\n",
    "- `index`: Returns the row labels of the DataFrame,\n",
    "and so on.\n",
    "\n",
    "🐍 Try it out for yourself using the sample data.csv."
   ]
  },
  {
   "cell_type": "markdown",
   "metadata": {},
   "source": [
    "## Basic DataFrame Operations"
   ]
  },
  {
   "cell_type": "markdown",
   "metadata": {},
   "source": [
    "Pandas provides a wide range of operations to manipulate and analyze DataFrames. These operations are invaluable for data cleaning, transformation, and analysis.\n",
    "\n",
    "An example scenario you might find yourself in as a junior researcher is analyzing experimental results. For instance, imagine you have a dataset containing time-series data from a physics experiment, such as measurements of position, velocity, and acceleration over time. You might need to clean the data by handling missing values, filter rows based on specific conditions (e.g., velocity exceeding a threshold), calculate metrics like energy or force, and visualize trends to interpret your results.\n",
    "\n",
    "Pandas simplifies these tasks, enabling you to focus on extracting insights from your data rather than writing complex code to manipulate it."
   ]
  },
  {
   "cell_type": "markdown",
   "metadata": {},
   "source": [
    "### Slicing and Indexing"
   ]
  },
  {
   "cell_type": "markdown",
   "metadata": {},
   "source": [
    "You've already encountered slicing and indexing in its general form in Python. Pandas extends these concepts to DataFrames, allowing you to select specific rows and columns based on labels or positions.\n",
    "\n",
    "__Accessing Rows and Columns__:\n",
    "\n",
    "- __Columns__: You can access columns using their labels as attributes, e.g., `df.column_name` or as keys, e.g., `df['column_name']`.\n",
    "- __Rows__: You can access rows using the `loc[]` and `iloc[]` methods. `loc[]` is label-based (meaning you specify the row label), while `iloc[]` is integer position-based (meaning you specify the row index)."
   ]
  },
  {
   "cell_type": "code",
   "execution_count": 17,
   "metadata": {},
   "outputs": [
    {
     "name": "stdout",
     "output_type": "stream",
     "text": [
      "0      0\n",
      "1      5\n",
      "2     20\n",
      "3     45\n",
      "4     80\n",
      "5    100\n",
      "Name: Position, dtype: int64\n",
      "Time         2\n",
      "Position    20\n",
      "Name: 2, dtype: int64\n",
      "Time         2\n",
      "Position    20\n",
      "Name: 2, dtype: int64\n"
     ]
    }
   ],
   "source": [
    "# Access a column\n",
    "\n",
    "print(df[\"Position\"])\n",
    "\n",
    "# Access a specific row\n",
    "print(df.loc[2]) # Access row with label 2\n",
    "print(df.iloc[2]) # Access the third row by position"
   ]
  },
  {
   "cell_type": "markdown",
   "metadata": {},
   "source": [
    "__Slicing Rows and Columns:__\n",
    "\n",
    "You can slice rows and columns in a DataFrame using the `loc[]` and `iloc[]` methods:\n",
    "- _Label-based slicing_: Use `df.loc[row_labels, column_labels]` to select specific rows and columns based on their labels.\n",
    "_Example_: `df.loc[1:3, 'column_name']` selects rows 1 to 3 for the specified column.\n",
    "\n",
    "- _Position-based slicing_: Use `df.iloc[row_indices, column_indices]` to slice rows and columns based on their integer positions.\n",
    "\n",
    "This approach provides flexibility for accessing subsets of data efficiently."
   ]
  },
  {
   "cell_type": "code",
   "execution_count": 19,
   "metadata": {},
   "outputs": [
    {
     "name": "stdout",
     "output_type": "stream",
     "text": [
      "   Time  Position\n",
      "1     1         5\n",
      "2     2        20\n",
      "3     3        45\n",
      "   Time  Position\n",
      "0     0         0\n",
      "1     1         5\n"
     ]
    }
   ],
   "source": [
    "# Slice rows and columns\n",
    "print(df.loc[1:3, [\"Time\", \"Position\"]])\n",
    "print(df.iloc[0:2, 0:2])"
   ]
  },
  {
   "cell_type": "markdown",
   "metadata": {},
   "source": [
    "### Filtering Data"
   ]
  },
  {
   "cell_type": "markdown",
   "metadata": {},
   "source": [
    "Filtering data is a common task in data analysis. You can filter rows based on specific conditions using boolean indexing. This simply means creating a list of True or False values, where each value indicates whether a row meets the condition. The rows with True are included in the filtered DataFrame, while the others are excluded."
   ]
  },
  {
   "cell_type": "code",
   "execution_count": 26,
   "metadata": {},
   "outputs": [
    {
     "name": "stdout",
     "output_type": "stream",
     "text": [
      "   Time  Position\n",
      "3     3        45\n",
      "4     4        80\n",
      "5     5       100\n"
     ]
    }
   ],
   "source": [
    "## Filter rows where Position > 20\n",
    "\n",
    "# The boolean condition returns a Series of True and False values\n",
    "condition = df[\"Position\"] > 20\n",
    "filtered_data = df[condition]\n",
    "\n",
    "# Alternatively, you can combine the two steps into one line of code\n",
    "# filtered_data = df[df[\"Position\"] > 20]\n",
    "\n",
    "print(filtered_data)"
   ]
  },
  {
   "cell_type": "code",
   "execution_count": null,
   "metadata": {},
   "outputs": [],
   "source": []
  }
 ],
 "metadata": {
  "kernelspec": {
   "display_name": "myenv",
   "language": "python",
   "name": "python3"
  },
  "language_info": {
   "codemirror_mode": {
    "name": "ipython",
    "version": 3
   },
   "file_extension": ".py",
   "mimetype": "text/x-python",
   "name": "python",
   "nbconvert_exporter": "python",
   "pygments_lexer": "ipython3",
   "version": "3.8.20"
  }
 },
 "nbformat": 4,
 "nbformat_minor": 2
}
