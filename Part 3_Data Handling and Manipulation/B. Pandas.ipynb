{
 "cells": [
  {
   "cell_type": "markdown",
   "metadata": {},
   "source": [
    "# Introduction"
   ]
  },
  {
   "cell_type": "markdown",
   "metadata": {},
   "source": [
    "Pandas is a highly versatile Python library for data manipulation and analysis, built on top of the NumPy package. Its core data structures, __Series__ and __DataFrame__, are specifically designed to handle structured data.\n",
    "\n",
    "A DataFrame organizes data into rows (of observations) and columns (of variables), making it ideal for storing and processing tabular data. Pandas’s efficiency and flexibility have made it an essential tool for researchers and physicists like yourself 😁"
   ]
  },
  {
   "cell_type": "markdown",
   "metadata": {},
   "source": [
    "## What is a DataFrame?"
   ]
  },
  {
   "cell_type": "markdown",
   "metadata": {},
   "source": [
    "A DataFrame is a two-dimensional, labeled data structure in Pandas, with columns that can hold data of different types. It’s similar to a spreadsheet. As one of the most commonly used Pandas objects, a DataFrame organizes data into:\n",
    "- __Rows__: Representing individual records or observations.\n",
    "- __Columns__: Representing variables or attributes."
   ]
  },
  {
   "cell_type": "markdown",
   "metadata": {},
   "source": [
    "### Checking the Pandas version"
   ]
  },
  {
   "cell_type": "markdown",
   "metadata": {},
   "source": [
    "Before we start, it’s important to check if you have Pandas installed on your machine and verify its version, as Pandas is essential for this part of the tutorial. Since you’re now familiar with Conda and the terminal, you can easily perform this check using the terminal in Visual Studio Code.\n",
    "\n",
    "To open the terminal in Visual Studio Code, click on `Terminal` in the top menu and then select `New Terminal`.\n",
    "\n",
    "One way to check the whether you have Pandas installed is to run the following command in the terminal, using conda is:\n",
    "\n",
    "- Activate your conda environment by running the following command in the terminal:\n",
    "```bash\n",
    "conda activate <your_env_name>\n",
    "```\n",
    "- Check if Pandas is installed:\n",
    "```bash\n",
    "conda list pandas\n",
    "```\n",
    "\n",
    "- If, for some reason, you don't have Pandas installed, you can install it by running the following command in the terminal:\n",
    "```bash\n",
    "conda install pandas\n",
    "``` \n",
    "and then you can verify the installation by running the `conda list pandas` command again."
   ]
  },
  {
   "cell_type": "markdown",
   "metadata": {},
   "source": [
    "### Creating a DataFrame"
   ]
  },
  {
   "cell_type": "markdown",
   "metadata": {},
   "source": [
    "A DataFrame can be created from various data types, including lists, dictionaries, NumPy arrays, or external sources such as CSV and Excel files."
   ]
  },
  {
   "cell_type": "code",
   "execution_count": null,
   "metadata": {},
   "outputs": [
    {
     "name": "stdout",
     "output_type": "stream",
     "text": [
      "   Time (s)  Position (m)  Velocity (m/s)\n",
      "0         0             0               0\n",
      "1         1             5               5\n",
      "2         2            20              10\n",
      "3         3            45              15\n"
     ]
    }
   ],
   "source": [
    "# Creating a DataFrame from a Dictionary\n",
    "import pandas as pd\n",
    "\n",
    "# Sample data\n",
    "data = {\n",
    "    \"Time (s)\": [0, 1, 2, 3],\n",
    "    \"Position (m)\": [0, 5, 20, 45],\n",
    "    \"Velocity (m/s)\": [0, 5, 10, 15]\n",
    "}\n",
    "\n",
    "# Create a DataFrame\n",
    "df = pd.DataFrame(data)\n",
    "\n",
    "print(df)"
   ]
  },
  {
   "cell_type": "code",
   "execution_count": 14,
   "metadata": {},
   "outputs": [],
   "source": [
    "# Loading a DataFrame from a CSV File\n",
    "\n",
    "import pandas as pd\n",
    "\n",
    "# Load data from a CSV file\n",
    "df = pd.read_csv(\"data.csv\")\n",
    "# print(df) # Display the DataFrame\n",
    "# print(df.head()) # Display the first 5 rows"
   ]
  },
  {
   "cell_type": "markdown",
   "metadata": {},
   "source": [
    "## Inspecting DataFrames"
   ]
  },
  {
   "cell_type": "markdown",
   "metadata": {},
   "source": [
    "Pandas provides several functions to inspect the contents of a DataFrame, including:\n",
    "- `head()`: Displays the first few rows of a DataFrame, e.g., `df.head()` displays the first five rows (default is 5).\n",
    "- `tail()`: Displays the last few rows of a DataFrame.\n",
    "- `info()`: Displays a summary of the DataFrame, including the data types and missing values.\n",
    "- `describe()`: Displays a statistical summary of the DataFrame.\n",
    "- `shape`: Returns the dimensions of the DataFrame (rows, columns).\n",
    "- `columns`: Returns the column labels of the DataFrame.\n",
    "- `index`: Returns the row labels of the DataFrame,\n",
    "and so on.\n",
    "\n",
    "🐍 Try it out for yourself using the sample data.csv."
   ]
  },
  {
   "cell_type": "markdown",
   "metadata": {},
   "source": [
    "## Basic DataFrame Operations"
   ]
  },
  {
   "cell_type": "markdown",
   "metadata": {},
   "source": [
    "Pandas provides a wide range of operations to manipulate and analyze DataFrames. These operations are invaluable for data cleaning, transformation, and analysis.\n",
    "\n",
    "An example scenario you might find yourself in as a junior researcher is analyzing experimental results. For instance, imagine you have a dataset containing time-series data from a physics experiment, such as measurements of position, velocity, and acceleration over time. You might need to clean the data by handling missing values, filter rows based on specific conditions (e.g., velocity exceeding a threshold), calculate metrics like energy or force, and visualize trends to interpret your results.\n",
    "\n",
    "Pandas simplifies these tasks, enabling you to focus on extracting insights from your data rather than writing complex code to manipulate it."
   ]
  },
  {
   "cell_type": "markdown",
   "metadata": {},
   "source": [
    "### Slicing and Indexing"
   ]
  },
  {
   "cell_type": "markdown",
   "metadata": {},
   "source": [
    "You've already encountered slicing and indexing in its general form in Python. Pandas extends these concepts to DataFrames, allowing you to select specific rows and columns based on labels or positions.\n",
    "\n",
    "__Accessing Rows and Columns__:\n",
    "\n",
    "- __Columns__: You can access columns using their labels as attributes, e.g., `df.column_name` or as keys, e.g., `df['column_name']`.\n",
    "- __Rows__: You can access rows using the `loc[]` and `iloc[]` methods. `loc[]` is label-based (meaning you specify the row label), while `iloc[]` is integer position-based (meaning you specify the row index)."
   ]
  },
  {
   "cell_type": "code",
   "execution_count": 17,
   "metadata": {},
   "outputs": [
    {
     "name": "stdout",
     "output_type": "stream",
     "text": [
      "0      0\n",
      "1      5\n",
      "2     20\n",
      "3     45\n",
      "4     80\n",
      "5    100\n",
      "Name: Position, dtype: int64\n",
      "Time         2\n",
      "Position    20\n",
      "Name: 2, dtype: int64\n",
      "Time         2\n",
      "Position    20\n",
      "Name: 2, dtype: int64\n"
     ]
    }
   ],
   "source": [
    "# Access a column\n",
    "\n",
    "print(df[\"Position\"])\n",
    "\n",
    "# Access a specific row\n",
    "print(df.loc[2]) # Access row with label 2\n",
    "print(df.iloc[2]) # Access the third row by position"
   ]
  },
  {
   "cell_type": "markdown",
   "metadata": {},
   "source": [
    "__Slicing Rows and Columns:__\n",
    "\n",
    "You can slice rows and columns in a DataFrame using the `loc[]` and `iloc[]` methods:\n",
    "- _Label-based slicing_: Use `df.loc[row_labels, column_labels]` to select specific rows and columns based on their labels.\n",
    "_Example_: `df.loc[1:3, 'column_name']` selects rows 1 to 3 for the specified column.\n",
    "\n",
    "- _Position-based slicing_: Use `df.iloc[row_indices, column_indices]` to slice rows and columns based on their integer positions.\n",
    "\n",
    "This approach provides flexibility for accessing subsets of data efficiently."
   ]
  },
  {
   "cell_type": "code",
   "execution_count": 19,
   "metadata": {},
   "outputs": [
    {
     "name": "stdout",
     "output_type": "stream",
     "text": [
      "   Time  Position\n",
      "1     1         5\n",
      "2     2        20\n",
      "3     3        45\n",
      "   Time  Position\n",
      "0     0         0\n",
      "1     1         5\n"
     ]
    }
   ],
   "source": [
    "# Slice rows and columns\n",
    "print(df.loc[1:3, [\"Time\", \"Position\"]])\n",
    "print(df.iloc[0:2, 0:2])"
   ]
  },
  {
   "cell_type": "markdown",
   "metadata": {},
   "source": [
    "### Filtering Data"
   ]
  },
  {
   "cell_type": "markdown",
   "metadata": {},
   "source": [
    "Filtering data is a common task in data analysis. You can filter rows based on specific conditions using boolean indexing. This simply means creating a list of True or False values, where each value indicates whether a row meets the condition. The rows with True are included in the filtered DataFrame, while the others are excluded."
   ]
  },
  {
   "cell_type": "code",
   "execution_count": 26,
   "metadata": {},
   "outputs": [
    {
     "name": "stdout",
     "output_type": "stream",
     "text": [
      "   Time  Position\n",
      "3     3        45\n",
      "4     4        80\n",
      "5     5       100\n"
     ]
    }
   ],
   "source": [
    "## Filter rows where Position > 20\n",
    "\n",
    "# The boolean condition returns a Series of True and False values\n",
    "condition = df[\"Position\"] > 20\n",
    "filtered_data = df[condition]\n",
    "\n",
    "# Alternatively, you can combine the two steps into one line of code\n",
    "# filtered_data = df[df[\"Position\"] > 20]\n",
    "\n",
    "print(filtered_data)"
   ]
  },
  {
   "cell_type": "markdown",
   "metadata": {},
   "source": [
    "### Modifying Columns"
   ]
  },
  {
   "cell_type": "markdown",
   "metadata": {},
   "source": [
    "Pandas allows you to modify columns in a DataFrame by performing operations on them. You can create new columns, update existing columns, or apply functions to transform column values. This flexibility is essential for data cleaning. For example, you might need to convert units or calculate derived metrics. Let us take a look at some of the common operations you can perform on columns:"
   ]
  },
  {
   "cell_type": "code",
   "execution_count": 37,
   "metadata": {},
   "outputs": [
    {
     "name": "stdout",
     "output_type": "stream",
     "text": [
      "   Time  Position  Velocity\n",
      "0     0         6       inf\n",
      "1     1        11      11.0\n",
      "2     2        26      13.0\n",
      "3     3        51      17.0\n",
      "4     4        86      21.5\n",
      "5     5       106      21.2\n"
     ]
    }
   ],
   "source": [
    "## Add a new column\n",
    "\n",
    "# Here we're adding a new column called \"Velocity\" to the DataFrame by dividing the \"Position\" column by the \"Time\" column. Pretty cool, right?\n",
    "df[\"Velocity\"] = df[\"Position\"] / df[\"Time\"]\n",
    "print(df)"
   ]
  },
  {
   "cell_type": "code",
   "execution_count": 38,
   "metadata": {},
   "outputs": [
    {
     "name": "stdout",
     "output_type": "stream",
     "text": [
      "   Time  Position  Velocity\n",
      "0     0         8       inf\n",
      "1     1        13      11.0\n",
      "2     2        28      13.0\n",
      "3     3        53      17.0\n",
      "4     4        88      21.5\n",
      "5     5       108      21.2\n"
     ]
    }
   ],
   "source": [
    "## Updating an existing column\n",
    "\n",
    "# Let's say we want to update the \"Position\" column by adding 2 to each value. We can do this by simply adding 2 to the column.\n",
    "df[\"Position\"] += 2\n",
    "print(df)"
   ]
  },
  {
   "cell_type": "markdown",
   "metadata": {},
   "source": [
    "💡 In Python, `x += 2` is equivalent to `x = x + 2`."
   ]
  },
  {
   "cell_type": "markdown",
   "metadata": {},
   "source": [
    "__Deleting Columns__:\n",
    "\n",
    "You can delete columns in a DataFrame using the `drop()` method. For example, `df.drop('column_name', axis=1)` removes the specified column. The `axis=1` argument specifies that a column (not a row) is being deleted. To delete multiple columns, you can pass a list of column names, such as `df.drop(['column1', 'column2'], axis=1)`.\n",
    "\n",
    "You may also encounter the `inplace=True` argument, which modifies the DataFrame directly without creating a new one. This can be helpful when you want to update the existing DataFrame rather than creating a separate copy."
   ]
  },
  {
   "cell_type": "code",
   "execution_count": 39,
   "metadata": {},
   "outputs": [
    {
     "name": "stdout",
     "output_type": "stream",
     "text": [
      "   Time  Position\n",
      "0     0         8\n",
      "1     1        13\n",
      "2     2        28\n",
      "3     3        53\n",
      "4     4        88\n",
      "5     5       108\n"
     ]
    }
   ],
   "source": [
    "## Deleting a column\n",
    "\n",
    "df.drop(columns=[\"Velocity\"], inplace=True)\n",
    "print(df)"
   ]
  },
  {
   "cell_type": "markdown",
   "metadata": {},
   "source": [
    "## Close to the End: A Mock Scenario"
   ]
  },
  {
   "cell_type": "markdown",
   "metadata": {},
   "source": [
    "Let’s simulate importing and analyzing real-world experimental data. Suppose we have data from a Physics experiment stored in experiment_data.csv. The dataset contains columns for Time, Position, Velocity, and Acceleration."
   ]
  },
  {
   "cell_type": "code",
   "execution_count": 41,
   "metadata": {},
   "outputs": [
    {
     "name": "stdout",
     "output_type": "stream",
     "text": [
      "   Time  Position  Velocity  Acceleration\n",
      "0     0         0         0             0\n",
      "1     1         5         5             5\n",
      "2     2        20        10             5\n",
      "3     3        45        15             5\n",
      "4     4        80        20             5\n"
     ]
    }
   ],
   "source": [
    "# Step 1: Load the data\n",
    "\n",
    "df = pd.read_csv(\"experiment_data.csv\") # Load the data from the CSV file\n",
    "print(df.head()) # Display the first 5 rows (default is 5)"
   ]
  },
  {
   "cell_type": "code",
   "execution_count": 42,
   "metadata": {},
   "outputs": [],
   "source": [
    "# Step 2: Clean the data\n",
    "\n",
    "# Fill missing values with 0, if any\n",
    "df.fillna(0, inplace=True)\n",
    "\n",
    "# Drop rows with any missing values, if any\n",
    "df.dropna(inplace=True)"
   ]
  },
  {
   "cell_type": "code",
   "execution_count": 47,
   "metadata": {},
   "outputs": [
    {
     "name": "stdout",
     "output_type": "stream",
     "text": [
      "Mean Velocity: 25.00 m/s\n",
      "    Time  Position  Velocity  Acceleration\n",
      "1      1         5         5             5\n",
      "2      2        20        10             5\n",
      "3      3        45        15             5\n",
      "4      4        80        20             5\n",
      "5      5       125        25             5\n",
      "6      6       180        30             5\n",
      "7      7       245        35             5\n",
      "8      8       320        40             5\n",
      "9      9       405        45             5\n",
      "10    10       500        50             5\n",
      "    Time  Position  Velocity  Acceleration\n",
      "3      3        45        15             5\n",
      "4      4        80        20             5\n",
      "5      5       125        25             5\n",
      "6      6       180        30             5\n",
      "7      7       245        35             5\n",
      "8      8       320        40             5\n",
      "9      9       405        45             5\n",
      "10    10       500        50             5\n"
     ]
    }
   ],
   "source": [
    "# Step 3: Analyze the data\n",
    "\n",
    "# Calculate mean velocity\n",
    "mean_velocity = df[\"Velocity\"].mean()\n",
    "\n",
    "print(f\"Mean Velocity: {mean_velocity:.2f} m/s\") # Display the mean velocity with 2 decimal places\n",
    "\n",
    "# Filter rows where Acceleration > 2 m/s^2\n",
    "high_acceleration = df[df[\"Acceleration\"] > 2] # Play with the threshold value to see different results\n",
    "high_velocity = df[df[\"Velocity\"] > 10] # Play with the threshold value to see different results\n",
    "\n",
    "print(high_acceleration)\n",
    "print(high_velocity)"
   ]
  },
  {
   "cell_type": "code",
   "execution_count": 48,
   "metadata": {},
   "outputs": [
    {
     "data": {
      "image/png": "[encoded data removed]",
      "text/plain": [
       "<Figure size 640x480 with 1 Axes>"
      ]
     },
     "metadata": {},
     "output_type": "display_data"
    }
   ],
   "source": [
    "# Step 4: Visualize the data (I know we haven't covered this yet, so treat this as a teaser)\n",
    "\n",
    "import matplotlib.pyplot as plt\n",
    "\n",
    "# Plot Position vs. Time\n",
    "\n",
    "df.plot(x=\"Time\", y=\"Position\", kind=\"line\", title=\"Position vs. Time\")\n",
    "\n",
    "plt.xlabel(\"Time (s)\")\n",
    "plt.ylabel(\"Position (m)\")\n",
    "\n",
    "plt.show()"
   ]
  },
  {
   "cell_type": "markdown",
   "metadata": {},
   "source": [
    "As a summary, Pandas is a powerful library for data manipulation and analysis, particularly for structured data. It simplifies common data operations, such as cleaning, filtering, and transforming data, enabling you to focus on extracting insights from your data. By mastering Pandas, you’ll be well-equipped to handle a wide range of data analysis tasks in your research and beyond.\n",
    "\n",
    "This is by no means an exhaustive guide to Pandas, but it should provide a solid foundation for you to explore further 🐍"
   ]
  }
 ],
 "metadata": {
  "kernelspec": {
   "display_name": "myenv",
   "language": "python",
   "name": "python3"
  },
  "language_info": {
   "codemirror_mode": {
    "name": "ipython",
    "version": 3
   },
   "file_extension": ".py",
   "mimetype": "text/x-python",
   "name": "python",
   "nbconvert_exporter": "python",
   "pygments_lexer": "ipython3",
   "version": "3.8.20"
  }
 },
 "nbformat": 4,
 "nbformat_minor": 2
}
