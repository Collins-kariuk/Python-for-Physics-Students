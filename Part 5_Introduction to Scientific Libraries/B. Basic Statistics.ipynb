{
 "cells": [
  {
   "cell_type": "markdown",
   "metadata": {},
   "source": [
    "Statistics are a cornerstone of data analysis, allowing researchers to summarize complex datasets, uncover patterns, and make data-driven decisions.\n",
    "\n",
    "In Physics and scientific research, statistical tools are indispensable for interpreting experimental results, validating hypotheses, and quantifying uncertainty. \n",
    "\n",
    "In this section, you’ll learn how to leverage NumPy to calculate essential statistical measures such as mean, median, and standard deviation. Additionally, we’ll explore foundational concepts like hypothesis testing and confidence intervals, equipping you with practical techniques to analyze data effectively and draw meaningful conclusions from your research."
   ]
  },
  {
   "cell_type": "markdown",
   "metadata": {},
   "source": [
    "## Calculating Mean, Median, and Standard Deviation Using NumPy"
   ]
  },
  {
   "cell_type": "markdown",
   "metadata": {},
   "source": [
    "### Mean"
   ]
  },
  {
   "cell_type": "markdown",
   "metadata": {},
   "source": [
    "The __mean__ is a measure of central tendency that represents the average value of a dataset. It is calculated by summing all values in the dataset and dividing by the number of observations."
   ]
  },
  {
   "cell_type": "code",
   "execution_count": 1,
   "metadata": {},
   "outputs": [
    {
     "name": "stdout",
     "output_type": "stream",
     "text": [
      "Mean: 6.0\n"
     ]
    }
   ],
   "source": [
    "import numpy as np\n",
    "\n",
    "# Example dataset\n",
    "data = np.array([2, 4, 6, 8, 10])\n",
    "\n",
    "# Calculate the mean\n",
    "mean = np.mean(data)\n",
    "\n",
    "print(\"Mean:\", mean)"
   ]
  },
  {
   "cell_type": "markdown",
   "metadata": {},
   "source": [
    "### Median"
   ]
  },
  {
   "cell_type": "markdown",
   "metadata": {},
   "source": [
    "The __median__ is the middle value of a dataset when it is ordered in ascending or descending order. If the dataset has an odd number of observations, the median is the middle value. If the dataset has an even number of observations, the median is the average of the two middle values."
   ]
  },
  {
   "cell_type": "code",
   "execution_count": 2,
   "metadata": {},
   "outputs": [
    {
     "name": "stdout",
     "output_type": "stream",
     "text": [
      "Median: 6.0\n"
     ]
    }
   ],
   "source": [
    "# Calculate the median\n",
    "median = np.median(data)\n",
    "print(\"Median:\", median)"
   ]
  },
  {
   "cell_type": "markdown",
   "metadata": {},
   "source": [
    "### Standard Deviation"
   ]
  },
  {
   "cell_type": "markdown",
   "metadata": {},
   "source": [
    "The __standard deviation__ is a measure of the dispersion of a dataset. It quantifies the amount of variation or dispersion in a dataset. A low standard deviation indicates that the data points tend to be close to the mean, while a high standard deviation indicates that the data points are spread out over a wider range.\n",
    "\n",
    "For example, as a Physics researcher, you may want to calculate the standard deviation of a dataset to understand the variability in repeated measurements of a particle’s velocity or the spread of values in an experiment measuring acceleration due to gravity. This information can help you evaluate the precision of your measurements, assess the reliability of your data, and determine whether the observed variability is within acceptable limits for drawing meaningful conclusions."
   ]
  },
  {
   "cell_type": "code",
   "execution_count": 3,
   "metadata": {},
   "outputs": [
    {
     "name": "stdout",
     "output_type": "stream",
     "text": [
      "Standard Deviation: 2.8284271247461903\n"
     ]
    }
   ],
   "source": [
    "# Calculate the standard deviation\n",
    "\n",
    "std_dev = np.std(data)\n",
    "print(\"Standard Deviation:\", std_dev)"
   ]
  },
  {
   "cell_type": "markdown",
   "metadata": {},
   "source": [
    "### Practical Example"
   ]
  },
  {
   "cell_type": "markdown",
   "metadata": {},
   "source": [
    "Suppose you are analyzing the velocities of a particle measured in an experiment. These velocities were recorded at different time intervals, and you want to calculate the mean, median, and standard deviation to assess the precision and reliability of your measurements."
   ]
  },
  {
   "cell_type": "code",
   "execution_count": 4,
   "metadata": {},
   "outputs": [
    {
     "name": "stdout",
     "output_type": "stream",
     "text": [
      "Mean Velocity: 3.44 m/s\n",
      "Median Velocity: 3.40 m/s\n",
      "Standard Deviation: 0.23 m/s\n",
      "\n",
      "Interpretation:\n",
      "The average velocity of the particle is approximately 3.44 m/s.\n",
      "The median velocity, being 3.40 m/s, indicates that half of the measurements are below this value and half are above.\n",
      "The standard deviation of 0.23 m/s shows the variability in the recorded velocities.\n"
     ]
    }
   ],
   "source": [
    "import numpy as np\n",
    "\n",
    "# Dataset: Measured velocities of a particle in m/s\n",
    "velocities = np.array([3.1, 3.4, 3.5, 3.2, 3.8, 3.6, 3.7, 3.3, 3.4])\n",
    "\n",
    "# Calculate the mean\n",
    "mean_velocity = np.mean(velocities)\n",
    "print(f\"Mean Velocity: {mean_velocity:.2f} m/s\")\n",
    "\n",
    "# Calculate the median\n",
    "median_velocity = np.median(velocities)\n",
    "print(f\"Median Velocity: {median_velocity:.2f} m/s\")\n",
    "\n",
    "# Calculate the standard deviation\n",
    "std_dev_velocity = np.std(velocities, ddof=1)  # ddof=1 for sample standard deviation\n",
    "print(f\"Standard Deviation: {std_dev_velocity:.2f} m/s\")\n",
    "\n",
    "# Interpret the results\n",
    "print(\"\\nInterpretation:\")\n",
    "print(f\"The average velocity of the particle is approximately {mean_velocity:.2f} m/s.\")\n",
    "print(f\"The median velocity, being {median_velocity:.2f} m/s, indicates that half of the measurements are below this value and half are above.\")\n",
    "print(f\"The standard deviation of {std_dev_velocity:.2f} m/s shows the variability in the recorded velocities.\")"
   ]
  },
  {
   "cell_type": "markdown",
   "metadata": {},
   "source": [
    "💡 The `.2f` in the formatted string specifies that the value being calculated should be displayed as a floating-point number with 2 decimal places.\n",
    "\n",
    "`f` stands for “fixed-point” notation, meaning the value is displayed as a decimal number."
   ]
  },
  {
   "cell_type": "markdown",
   "metadata": {},
   "source": [
    "💡 The `ddof` (Delta Degrees of Freedom) parameter in the `np.std()` function adjusts the divisor used in the calculation of the standard deviation. By default, `ddof=0`, which calculates the population standard deviation, dividing by the total number of elements in the dataset (N)."
   ]
  },
  {
   "cell_type": "markdown",
   "metadata": {},
   "source": [
    "## Hypothesis Testing"
   ]
  },
  {
   "cell_type": "markdown",
   "metadata": {},
   "source": [
    "At first, the term “hypothesis testing” might sound intimidating, but it’s a fundamental concept in scientific research that helps researchers draw conclusions from data. To test a hypothesis, you compare your sample mean to a theoretical value. Using NumPy, you can calculate the sample’s mean and standard deviation, then compute a simple test statistic to evaluate your hypothesis."
   ]
  },
  {
   "cell_type": "markdown",
   "metadata": {},
   "source": [
    "Before we dive into some practical examples, let’s review the key components of hypothesis testing:\n",
    "\n",
    "### Null Hypothesis (H0)\n",
    "\n",
    "The __null hypothesis__ is a statement that there is no significant difference between a sample statistic and a theoretical value. It represents the status quo or the absence of an effect.\n",
    "\n",
    "### Alternative Hypothesis (H1)\n",
    "\n",
    "The __alternative hypothesis__ is a statement that contradicts the null hypothesis. It suggests that there is a significant difference between a sample statistic and a theoretical value.\n",
    "\n",
    "### Test Statistic\n",
    "\n",
    "\n",
    "The __test statistic__ is a numerical value calculated from the sample data that helps you decide whether to reject the null hypothesis. It quantifies the difference between the sample statistic and the theoretical value, providing a basis for making an informed decision.\n",
    "\n",
    "### P-Value\n",
    "\n",
    "The __p-value__ is the probability of observing a test statistic as extreme as the one calculated from the sample data, assuming the null hypothesis is true. A low p-value indicates that the observed data is unlikely under the null hypothesis, suggesting that you should reject the null hypothesis in favor of the alternative hypothesis.\n",
    "\n",
    "### Significance Level (α)\n",
    "\n",
    "The __significance level__ is the threshold used to determine whether the p-value is low enough to reject the null hypothesis. Common significance levels include 0.05, 0.01, and 0.10, representing the probability of making a Type I error (rejecting the null hypothesis when it is true)."
   ]
  },
  {
   "cell_type": "markdown",
   "metadata": {},
   "source": [
    "### Practical Example\n",
    "To test a hypothesis, compare your sample mean to a theoretical value. Use NumPy to calculate the mean and standard deviation of the sample, then compute a simple test statistic."
   ]
  },
  {
   "cell_type": "code",
   "execution_count": 9,
   "metadata": {},
   "outputs": [
    {
     "name": "stdout",
     "output_type": "stream",
     "text": [
      "Test Statistic: -1.000000000000005\n"
     ]
    }
   ],
   "source": [
    "# Dataset: Particle velocities\n",
    "velocities = np.array([3.1, 3.5, 3.3, 3.7, 3.4])\n",
    "theoretical_mean = 3.5\n",
    "\n",
    "# Calculate mean, standard deviation, and test statistic\n",
    "sample_mean = np.mean(velocities)\n",
    "sample_std = np.std(velocities, ddof=1) # Use ddof=1 for sample standard deviation\n",
    "\n",
    "n = len(velocities)\n",
    "\n",
    "test_stat = (sample_mean - theoretical_mean) / (sample_std / np.sqrt(n))\n",
    "\n",
    "print(\"Test Statistic:\", test_stat)"
   ]
  },
  {
   "cell_type": "markdown",
   "metadata": {},
   "source": [
    "💡 If the test statistic exceeds a threshold (e.g., ±1.96 for a 95% confidence level), the result is significant."
   ]
  },
  {
   "cell_type": "markdown",
   "metadata": {},
   "source": [
    "## Confidence Intervals"
   ]
  },
  {
   "cell_type": "markdown",
   "metadata": {},
   "source": [
    "Confidence intervals are a powerful statistical tool used to estimate the range within which a population parameter is likely to fall. They quantify the uncertainty in your sample data and provide a range of plausible values for the true population mean. Confidence intervals help researchers make informed decisions and draw reliable conclusions based on sample data."
   ]
  },
  {
   "cell_type": "markdown",
   "metadata": {},
   "source": [
    "_Example scenario_: Suppose you are conducting an experiment to measure the average velocity of a particle. By calculating a confidence interval, you can estimate the range within which the true population mean velocity is likely to fall, providing valuable insights into the precision and reliability of your measurements."
   ]
  },
  {
   "cell_type": "code",
   "execution_count": 2,
   "metadata": {},
   "outputs": [
    {
     "name": "stdout",
     "output_type": "stream",
     "text": [
      "Confidence Interval: (3.20, 3.60)\n"
     ]
    }
   ],
   "source": [
    "import numpy as np\n",
    "\n",
    "# Dataset: Particle velocities\n",
    "velocities = np.array([3.1, 3.5, 3.3, 3.7, 3.4])\n",
    "confidence = 0.95\n",
    "\n",
    "# Calculate the mean and standard error\n",
    "mean = np.mean(velocities)\n",
    "std_dev = np.std(velocities, ddof=1) # Sample standard deviation\n",
    "\n",
    "n = len(velocities)\n",
    "std_error = std_dev / np.sqrt(n)\n",
    "\n",
    "# Calculate the margin of error\n",
    "z_value = 1.96 # Z-value for 95% confidence\n",
    "margin_of_error = z_value * std_error\n",
    "\n",
    "# Confidence interval\n",
    "lower_bound = mean - margin_of_error\n",
    "upper_bound = mean + margin_of_error\n",
    "\n",
    "print(f\"Confidence Interval: ({lower_bound:.2f}, {upper_bound:.2f})\")"
   ]
  },
  {
   "cell_type": "markdown",
   "metadata": {},
   "source": [
    "## Conclusion"
   ]
  },
  {
   "cell_type": "markdown",
   "metadata": {},
   "source": [
    "Mean, median, and standard deviation can be effortlessly calculated using NumPy, offering quick and valuable insights into data.\n",
    "\n",
    "Additionally, hypothesis testing and confidence intervals can be approximated within the NumPy framework, eliminating the need for external libraries.\n",
    "\n",
    "These tools provide a straightforward yet effective approach for analyzing experimental data in Physics."
   ]
  },
  {
   "cell_type": "markdown",
   "metadata": {},
   "source": []
  }
 ],
 "metadata": {
  "kernelspec": {
   "display_name": "myenv",
   "language": "python",
   "name": "python3"
  },
  "language_info": {
   "codemirror_mode": {
    "name": "ipython",
    "version": 3
   },
   "file_extension": ".py",
   "mimetype": "text/x-python",
   "name": "python",
   "nbconvert_exporter": "python",
   "pygments_lexer": "ipython3",
   "version": "3.8.20"
  }
 },
 "nbformat": 4,
 "nbformat_minor": 2
}
