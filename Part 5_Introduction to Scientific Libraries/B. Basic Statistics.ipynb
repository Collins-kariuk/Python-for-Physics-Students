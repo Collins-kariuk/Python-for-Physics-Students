{
 "cells": [
  {
   "cell_type": "markdown",
   "metadata": {},
   "source": [
    "Statistics are a cornerstone of data analysis, allowing researchers to summarize complex datasets, uncover patterns, and make data-driven decisions.\n",
    "\n",
    "In Physics and scientific research, statistical tools are indispensable for interpreting experimental results, validating hypotheses, and quantifying uncertainty. \n",
    "\n",
    "In this section, you’ll learn how to leverage NumPy to calculate essential statistical measures such as mean, median, and standard deviation. Additionally, we’ll explore foundational concepts like hypothesis testing and confidence intervals, equipping you with practical techniques to analyze data effectively and draw meaningful conclusions from your research."
   ]
  },
  {
   "cell_type": "markdown",
   "metadata": {},
   "source": [
    "## Calculating Mean, Median, and Standard Deviation Using NumPy"
   ]
  },
  {
   "cell_type": "markdown",
   "metadata": {},
   "source": [
    "### Mean"
   ]
  },
  {
   "cell_type": "markdown",
   "metadata": {},
   "source": [
    "The __mean__ is a measure of central tendency that represents the average value of a dataset. It is calculated by summing all values in the dataset and dividing by the number of observations."
   ]
  },
  {
   "cell_type": "code",
   "execution_count": 1,
   "metadata": {},
   "outputs": [
    {
     "name": "stdout",
     "output_type": "stream",
     "text": [
      "Mean: 6.0\n"
     ]
    }
   ],
   "source": [
    "import numpy as np\n",
    "\n",
    "# Example dataset\n",
    "data = np.array([2, 4, 6, 8, 10])\n",
    "\n",
    "# Calculate the mean\n",
    "mean = np.mean(data)\n",
    "\n",
    "print(\"Mean:\", mean)"
   ]
  },
  {
   "cell_type": "markdown",
   "metadata": {},
   "source": [
    "### Median"
   ]
  },
  {
   "cell_type": "markdown",
   "metadata": {},
   "source": [
    "The __median__ is the middle value of a dataset when it is ordered in ascending or descending order. If the dataset has an odd number of observations, the median is the middle value. If the dataset has an even number of observations, the median is the average of the two middle values."
   ]
  },
  {
   "cell_type": "code",
   "execution_count": 2,
   "metadata": {},
   "outputs": [
    {
     "name": "stdout",
     "output_type": "stream",
     "text": [
      "Median: 6.0\n"
     ]
    }
   ],
   "source": [
    "# Calculate the median\n",
    "median = np.median(data)\n",
    "print(\"Median:\", median)"
   ]
  },
  {
   "cell_type": "markdown",
   "metadata": {},
   "source": [
    "### Standard Deviation"
   ]
  },
  {
   "cell_type": "markdown",
   "metadata": {},
   "source": [
    "The __standard deviation__ is a measure of the dispersion of a dataset. It quantifies the amount of variation or dispersion in a dataset. A low standard deviation indicates that the data points tend to be close to the mean, while a high standard deviation indicates that the data points are spread out over a wider range.\n",
    "\n",
    "For example, as a Physics researcher, you may want to calculate the standard deviation of a dataset to understand the variability in repeated measurements of a particle’s velocity or the spread of values in an experiment measuring acceleration due to gravity. This information can help you evaluate the precision of your measurements, assess the reliability of your data, and determine whether the observed variability is within acceptable limits for drawing meaningful conclusions."
   ]
  },
  {
   "cell_type": "code",
   "execution_count": 3,
   "metadata": {},
   "outputs": [
    {
     "name": "stdout",
     "output_type": "stream",
     "text": [
      "Standard Deviation: 2.8284271247461903\n"
     ]
    }
   ],
   "source": [
    "# Calculate the standard deviation\n",
    "\n",
    "std_dev = np.std(data)\n",
    "print(\"Standard Deviation:\", std_dev)"
   ]
  }
 ],
 "metadata": {
  "kernelspec": {
   "display_name": "myenv",
   "language": "python",
   "name": "python3"
  },
  "language_info": {
   "codemirror_mode": {
    "name": "ipython",
    "version": 3
   },
   "file_extension": ".py",
   "mimetype": "text/x-python",
   "name": "python",
   "nbconvert_exporter": "python",
   "pygments_lexer": "ipython3",
   "version": "3.8.20"
  }
 },
 "nbformat": 4,
 "nbformat_minor": 2
}
