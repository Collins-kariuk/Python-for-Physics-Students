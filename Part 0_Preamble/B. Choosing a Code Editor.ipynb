{
 "cells": [
  {
   "cell_type": "markdown",
   "metadata": {
    "vscode": {
     "languageId": "plaintext"
    }
   },
   "source": [
    "## Introduction"
   ]
  },
  {
   "cell_type": "markdown",
   "metadata": {},
   "source": [
    "There’s been no shortage of online debates about the best code editor. Some developers swear by Vim, others champion Emacs, Visual Studio Code, or Sublime Text—the options are endless. But really, what is a code editor? It’s just a tool for writing code, like a pen and paper. The best editor is the one that feels right for you, so don’t let anyone convince you there’s only one “correct” choice. It’s all about personal preference.\n",
    "\n",
    "Now, I know that might ruffle a few feathers, but it’s the truth! Jokes aside, in this notebook, I’ll give you a quick introduction to IDEs and share links to resources where you can learn more about some of the most popular editors and what to consider when choosing one."
   ]
  },
  {
   "cell_type": "markdown",
   "metadata": {},
   "source": [
    "An IDE (Integrated Development Environment) is like a one-stop shop for all your coding needs. It’s a software tool that combines everything you need to write, test, and debug your code in one convenient package. Think of it as your coding command center! Most IDEs include:\n",
    "\n",
    "- A code editor to write and organize your programs.\n",
    "- Build automation tools to compile and execute your code with ease.\n",
    "- A debugger to help you find and fix pesky bugs.\n",
    "\n",
    "And the cherry on top? Modern IDEs often come with smart features like _intelligent code completion_, which suggests code as you type, making your life as a programmer much easier 🚀"
   ]
  },
  {
   "cell_type": "markdown",
   "metadata": {},
   "source": [
    "### Choosing an Editor"
   ]
  },
  {
   "cell_type": "markdown",
   "metadata": {
    "vscode": {
     "languageId": "plaintext"
    }
   },
   "source": [
    "Picking the right code editor is like choosing your favorite pair of shoes - it should be comfortable, functional, and suited to your needs. Here are some key factors to consider when making your choice:\n",
    "1. __Ease of Use__: Is the editor intuitive and beginner-friendly? A clean, user-friendly interface can make a world of difference, especially when you’re just starting out.\n",
    "2. __Customization__: Can you tweak the editor to match your workflow? Look for options to add plugins, change themes, or configure shortcuts to make it truly yours.\n",
    "3. __Performance__: How does the editor handle large projects or resource-heavy tasks? A sluggish editor can slow you down, so ensure it’s quick and doesn’t hog system resources.\n",
    "4. __Community Support__: Is there a vibrant community of users? A strong community means tutorials, plugins, and quick answers to your questions are just a search away."
   ]
  },
  {
   "cell_type": "markdown",
   "metadata": {},
   "source": [
    "### Popular Editors"
   ]
  },
  {
   "cell_type": "markdown",
   "metadata": {
    "vscode": {
     "languageId": "plaintext"
    }
   },
   "source": [
    "Here are some of the most popular editors:\n",
    "\n",
    "1. **Vim**: A highly customizable text editor that is popular among developers who prefer keyboard shortcuts.\n",
    "2. **Emacs**: Another highly customizable text editor that is popular among developers who prefer keyboard shortcuts.\n",
    "3. **Visual Studio Code**: A free, open-source code editor developed by Microsoft that is popular among developers for its ease of use and extensive features.\n",
    "4. **Sublime Text**: A proprietary code editor that is popular among developers for its speed and performance.\n",
    "5. **Atom**: A free, open-source code editor developed by GitHub that is popular among developers for its ease of use and customization options."
   ]
  },
  {
   "cell_type": "markdown",
   "metadata": {
    "vscode": {
     "languageId": "plaintext"
    }
   },
   "source": [
    "# Download and Install Visual Studio Code"
   ]
  },
  {
   "cell_type": "markdown",
   "metadata": {},
   "source": [
    "For this class, however, we'll stick with Visual Studio Code. It’s free, open-source, and has a large community of users who can help you if you run into problems. Plus, Visual Studio Code has a ton of extensions that you can install to customize the editor to suit your needs. However, if you're interested in checking out other IDEs just for the fun of it, check out this video which gives you a quick overview of IDEs: [Python Tutorial - Choosing an IDE](https://youtu.be/U9YQLJlfsLs?si=p2qYcLjgcQx0Mssn)"
   ]
  },
  {
   "cell_type": "markdown",
   "metadata": {},
   "source": [
    "Check out their website for more information and also for instructions on how to download it to your computers: [Visual Studio Code](https://code.visualstudio.com)."
   ]
  },
  {
   "cell_type": "markdown",
   "metadata": {},
   "source": [
    "### Creating a GitHub Account"
   ]
  },
  {
   "cell_type": "markdown",
   "metadata": {},
   "source": [
    "Github is a platform where you can store your code and collaborate with other developers. It’s a great way to showcase your projects and get feedback from the community.\n",
    "\n",
    "If you don’t already have a GitHub account, you can create one easily by following the instructions here: [Creating an account on GitHub](https://docs.github.com/en/get-started/start-your-journey/creating-an-account-on-github)"
   ]
  }
 ],
 "metadata": {
  "language_info": {
   "name": "python"
  }
 },
 "nbformat": 4,
 "nbformat_minor": 2
}
