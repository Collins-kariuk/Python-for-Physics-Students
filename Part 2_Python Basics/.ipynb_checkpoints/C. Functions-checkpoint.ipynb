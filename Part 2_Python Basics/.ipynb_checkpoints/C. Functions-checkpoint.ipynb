{
 "cells": [
  {
   "cell_type": "markdown",
   "metadata": {},
   "source": [
    "# Functions in Python"
   ]
  },
  {
   "cell_type": "markdown",
   "metadata": {},
   "source": [
    "Imagine you’re running a small Circle Factory that produces circular plates of various sizes. Your job is to calculate the area of each plate so customers know how much material they’ll need. At first, it’s simple—you write the formula for the area of a circle ($\\pi r^2$) directly into your program every time you need it. This works fine when you only have a few plates to calculate.\n",
    "\n",
    "But soon, business booms! You’re flooded with orders for plates of different sizes. Every time you calculate the area, you find yourself copying and pasting the same formula into different parts of your code. It’s repetitive, error-prone, and frustrating.\n",
    "\n",
    "Then, a brilliant idea hits you: _Why not create a single function that calculates the area of a circle?_ You could write this once, call it calculate_area, and reuse it every time you need to find the area of a plate. Suddenly, your factory runs more smoothly. With just one function, you can handle any number of orders efficiently and accurately.\n",
    "\n",
    "Now, whenever an order comes in, you simply call the function with the radius of the plate.\n",
    "\n",
    "With this approach, your code is cleaner, easier to read, and far less repetitive. You’ve not only optimized your workflow but also created a reusable tool that saves time and reduces mistakes.\n",
    "\n",
    "In this notebook, you’ll learn how to create and use functions in Python. You’ll see how functions can help you write cleaner, more efficient code, and how they can make your programs more powerful and flexible."
   ]
  },
  {
   "cell_type": "markdown",
   "metadata": {},
   "source": [
    "## Defining and Calling Functions"
   ]
  },
  {
   "cell_type": "markdown",
   "metadata": {},
   "source": [
    "Functions are reusable blocks of code that perform a specific task. You can define a function using the `def` keyword, followed by the function’s name, a pair of parentheses, and a colon. The code inside the function is indented. After defining a function, you can call it by using the function’s name followed by a pair of parentheses. An example:"
   ]
  },
  {
   "cell_type": "code",
   "execution_count": 1,
   "metadata": {},
   "outputs": [
    {
     "name": "stdout",
     "output_type": "stream",
     "text": [
      "The area of the plate is 314.159 square units.\n"
     ]
    }
   ],
   "source": [
    "def calculate_area(radius):\n",
    "    pi = 3.14159\n",
    "    return pi * radius ** 2\n",
    "\n",
    "radius = 10\n",
    "print(f\"The area of the plate is {calculate_area(radius)} square units.\")"
   ]
  },
  {
   "cell_type": "markdown",
   "metadata": {},
   "source": [
    "Functions are helpful when you need to perform a specific task repeatedly in your code. Instead of duplicating the same code each time, you can simply call the function. For example, rather than rewriting the code to calculate the area of a circle multiple times, you can use the `calculate_area` function whenever needed."
   ]
  },
  {
   "cell_type": "markdown",
   "metadata": {},
   "source": [
    "## Parameters and Arguments"
   ]
  },
  {
   "cell_type": "markdown",
   "metadata": {},
   "source": [
    "For a function to perform a task, it often needs some information. You can provide this information using parameters. Parameters are variables that enable data to be sent to the function. When you call a function, you specify the values that the parameters will take. These values are called arguments. Here’s an example:"
   ]
  },
  {
   "cell_type": "code",
   "execution_count": 3,
   "metadata": {},
   "outputs": [
    {
     "name": "stdout",
     "output_type": "stream",
     "text": [
      "15\n"
     ]
    }
   ],
   "source": [
    "def add_numbers(a, b):\n",
    "    return a + b\n",
    "\n",
    "result = add_numbers(5, 10)\n",
    "\n",
    "print(result)"
   ]
  },
  {
   "cell_type": "markdown",
   "metadata": {},
   "source": [
    "A function can have multiple parameters. Moreover, you can provide default values for parameters. If a function is called without providing an argument for a parameter with a default value, the default value is used. Here’s an example:"
   ]
  },
  {
   "cell_type": "code",
   "execution_count": 4,
   "metadata": {},
   "outputs": [
    {
     "name": "stdout",
     "output_type": "stream",
     "text": [
      "Hello, Alice!\n",
      "Hello, Guest!\n"
     ]
    }
   ],
   "source": [
    "def greet(name=\"Guest\"):\n",
    "    print(f\"Hello, {name}!\")\n",
    "\n",
    "greet(\"Alice\")\n",
    "greet() # Output: Hello, Guest!"
   ]
  },
  {
   "cell_type": "markdown",
   "metadata": {},
   "source": [
    "## Return Values"
   ]
  },
  {
   "cell_type": "markdown",
   "metadata": {},
   "source": [
    "Functions can return data as a result using the `return` keyword. This allows a function to send a value back to the code that called it, enabling the returned value to be used elsewhere in the program."
   ]
  },
  {
   "cell_type": "code",
   "execution_count": null,
   "metadata": {},
   "outputs": [
    {
     "name": "stdout",
     "output_type": "stream",
     "text": [
      "5\n"
     ]
    }
   ],
   "source": [
    "def subtract_numbers(a, b):\n",
    "    return a - b\n",
    "\n",
    "result = subtract_numbers(10, 5)\n",
    "print(result)"
   ]
  },
  {
   "cell_type": "markdown",
   "metadata": {},
   "source": [
    "A function can return multiple values as a tuple, which is a sequence of values separated by commas (you’ll learn more about tuples in a later tutorial). An example:"
   ]
  },
  {
   "cell_type": "code",
   "execution_count": 11,
   "metadata": {},
   "outputs": [
    {
     "name": "stdout",
     "output_type": "stream",
     "text": [
      "Area: 78.53975, Circumference: 31.4159\n"
     ]
    }
   ],
   "source": [
    "def calculate_area_and_circumference(radius):\n",
    "    pi = 3.14159\n",
    "    area = pi * radius ** 2\n",
    "    circumference = 2 * pi * radius\n",
    "    return area, circumference\n",
    "\n",
    "area, circumference = calculate_area_and_circumference(5)\n",
    "print(f\"Area: {area}, Circumference: {circumference}\")"
   ]
  },
  {
   "cell_type": "markdown",
   "metadata": {},
   "source": [
    "Return values can be used directly in calculations or conditions. An example:"
   ]
  },
  {
   "cell_type": "code",
   "execution_count": 13,
   "metadata": {},
   "outputs": [
    {
     "name": "stdout",
     "output_type": "stream",
     "text": [
      "14\n"
     ]
    }
   ],
   "source": [
    "def add(a, b):\n",
    "    return a + b\n",
    "\n",
    "result = add(3, 4) * 2 \n",
    "print(result)"
   ]
  },
  {
   "cell_type": "markdown",
   "metadata": {},
   "source": [
    "On the more compact and complex side, functions can be used within conditional logic to determine and return a boolean value. For example:"
   ]
  },
  {
   "cell_type": "code",
   "execution_count": null,
   "metadata": {},
   "outputs": [],
   "source": [
    "def check_even_or_odd(number):\n",
    "    return \"Even\" if number % 2 == 0 else \"Odd\"\n",
    "\n",
    "print(check_even_or_odd(5))  # Output: Odd"
   ]
  },
  {
   "cell_type": "markdown",
   "metadata": {},
   "source": [
    "Functions are incredibly beneficial for several reasons. They enhance __reusability__ by allowing the same function to be called multiple times with different arguments, eliminating the need to rewrite code. They improve __readability__ by dividing code into logical sections, making it easier to understand and follow. Additionally, they contribute to __maintainability__ by isolating specific functionality, which simplifies debugging and makes updates more straightforward."
   ]
  },
  {
   "cell_type": "markdown",
   "metadata": {},
   "source": [
    "### A Note on Naming Conventions and Documentation"
   ]
  },
  {
   "cell_type": "markdown",
   "metadata": {},
   "source": [
    "When naming functions, it’s a good practice to use descriptive names that reflect the function’s purpose. This makes your code easier to understand and maintain. Function names should be written in lowercase, with words separated by underscores. For example, calculate_area is a descriptive function name. \n",
    "\n",
    "You can also add a docstring to a function to describe what it does. A docstring is a string that appears as the first statement in a function and provides information about the function’s purpose, parameters, and return values. An example:"
   ]
  },
  {
   "cell_type": "code",
   "execution_count": 16,
   "metadata": {},
   "outputs": [
    {
     "name": "stdout",
     "output_type": "stream",
     "text": [
      "Kinetic energy: 125.0 J\n"
     ]
    }
   ],
   "source": [
    "def kinetic_energy(mass, velocity):\n",
    "    \"\"\"\n",
    "    Calculate the kinetic energy of an object.\n",
    "\n",
    "    The formula for kinetic energy is:\n",
    "    KE = 0.5 * mass * velocity^2\n",
    "\n",
    "    Parameters:\n",
    "    mass (float): The mass of the object in kilograms.\n",
    "    velocity (float): The velocity of the object in meters per second.\n",
    "\n",
    "    Returns:\n",
    "    float: The kinetic energy of the object in joules.\n",
    "    \"\"\"\n",
    "    return 0.5 * mass * velocity ** 2\n",
    "\n",
    "# Example usage:\n",
    "energy = kinetic_energy(10, 5)\n",
    "print(f\"Kinetic energy: {energy} J\")"
   ]
  },
  {
   "cell_type": "markdown",
   "metadata": {},
   "source": [
    "Docstrings are useful for documenting your code and can be accessed using the `help` function. For example, `help(calculate_area)` will display the docstring for the `calculate_area` function."
   ]
  },
  {
   "cell_type": "markdown",
   "metadata": {},
   "source": [
    "## Lambda Functions - More than Just a Simple Function."
   ]
  },
  {
   "cell_type": "markdown",
   "metadata": {},
   "source": [
    "Before we wrap up, let’s take a moment to dive into lambda functions. “Why bother with lambda functions when regular functions already exist?”\n",
    "\n",
    "Well, lambda functions are like the quick fixes of programming—simple, efficient, and perfect for those moments when you need a function but don’t want the hassle of formally defining one.\n",
    "\n",
    "Lambda functions are small, anonymous functions that can take multiple parameters but are limited to a single expression. Defined with the `lambda` keyword, these functions let you write compact code that’s both clean and effective. Think of them as Python’s way of saying, “Let’s get this done quickly!”"
   ]
  },
  {
   "cell_type": "markdown",
   "metadata": {},
   "source": [
    "A use case: imagine you have a list of tuples (ordered collections of elements enlosed in normal brackets `()`), and you need to sort it by the second element in each tuple. Instead of writing an entire function just for this purpose, you can use a lambda function directly within the sort method. It’s quick, to the point, and saves you time.\n",
    "\n",
    "Here’s a simple example to bring it to life:\n",
    "\n",
    "You have a list like `[(1, 'apple'), (3, 'banana'), (2, 'cherry')]`. Using a lambda function, you can sort this list alphabetically by the second element with just one line of code. Cool, right?\n",
    "\n",
    "Lambda functions are perfect for tasks like this where brevity and clarity matter. They might not replace full functions for complex logic, but for quick, one-off tasks, they’re a game-changer!"
   ]
  },
  {
   "cell_type": "markdown",
   "metadata": {},
   "source": [
    "A regular function, that say, can be used to square a number, can be written as a lambda function. See below:"
   ]
  },
  {
   "cell_type": "code",
   "execution_count": 3,
   "metadata": {},
   "outputs": [],
   "source": [
    "# regular function\n",
    "def square(x):\n",
    "    return x ** 2"
   ]
  },
  {
   "cell_type": "code",
   "execution_count": 4,
   "metadata": {},
   "outputs": [],
   "source": [
    "# same function as a lambda\n",
    "square = lambda x: x ** 2"
   ]
  },
  {
   "cell_type": "markdown",
   "metadata": {},
   "source": [
    "If you want to learn more about lambda functions, check out the following resources:\n",
    "\n",
    "- [YouTube Video](https://youtu.be/HQNiSfb795A?si=1GhjId8uqBulV_Mr)\n",
    "- [W3Schools Article](https://www.w3schools.com/python/python_lambda.asp)"
   ]
  },
  {
   "cell_type": "code",
   "execution_count": 1,
   "metadata": {},
   "outputs": [
    {
     "name": "stdout",
     "output_type": "stream",
     "text": [
      "[('Bob', 20), ('Alice', 25), ('Charlie', 30)]\n"
     ]
    }
   ],
   "source": [
    "# Using a lambda function to sort a list of tuples based on the second element of each tuple\n",
    "data = [(\"Alice\", 25), (\"Bob\", 20), (\"Charlie\", 30)]\n",
    "data.sort(key=lambda x: x[1])\n",
    "print(data)  # Output: [('Bob', 20), ('Alice', 25), ('Charlie', 30)]"
   ]
  },
  {
   "cell_type": "code",
   "execution_count": 2,
   "metadata": {},
   "outputs": [
    {
     "name": "stdout",
     "output_type": "stream",
     "text": [
      "[15, 25]\n"
     ]
    }
   ],
   "source": [
    "# An apt example to filtering velocities above a threshold\n",
    "velocities = [5, 15, 25, 10]\n",
    "high_velocities = list(filter(lambda v: v > 10, velocities))\n",
    "print(high_velocities) # Output: [15, 25]"
   ]
  },
  {
   "cell_type": "markdown",
   "metadata": {},
   "source": [
    "## Scope of Variables"
   ]
  },
  {
   "cell_type": "markdown",
   "metadata": {},
   "source": [
    "Recall, variable is a named container in programming used to store data values.\n",
    "\n",
    "Moreover, variables can be classified into two types: local and global. Local variables are defined within a function and can only be accessed within that function. Global variables are defined outside of any function and can be accessed by any part of the code."
   ]
  },
  {
   "cell_type": "markdown",
   "metadata": {},
   "source": [
    "### Local Variables\n",
    "\n",
    "When a variable is defined within a function, it is considered local to that function. This means that the variable is only accessible within the function and cannot be accessed outside of it. It's created when the function is called and destroyed when the function exits. For example:"
   ]
  },
  {
   "cell_type": "code",
   "execution_count": null,
   "metadata": {},
   "outputs": [
    {
     "name": "stdout",
     "output_type": "stream",
     "text": [
      "314.159\n"
     ]
    }
   ],
   "source": [
    "def calculate_area(radius):\n",
    "    pi = 3.14159 # Local variable\n",
    "    return pi * radius ** 2\n",
    "\n",
    "print(calculate_area(10))\n",
    "\n",
    "# print(pi)  # This will raise a NameError"
   ]
  },
  {
   "cell_type": "markdown",
   "metadata": {},
   "source": [
    "### Global Variables"
   ]
  },
  {
   "cell_type": "markdown",
   "metadata": {},
   "source": [
    "Global variables are accessible throughout the entire program, including inside functions, but _cannot be modified within a function_ unless explicitly declared as `global`. They are defined outside of any function and can be used by any part of the code. For example:"
   ]
  },
  {
   "cell_type": "code",
   "execution_count": 6,
   "metadata": {},
   "outputs": [
    {
     "name": "stdout",
     "output_type": "stream",
     "text": [
      "314.159\n"
     ]
    }
   ],
   "source": [
    "pi = 3.14159 # Global variable\n",
    "\n",
    "def calculate_area(radius):\n",
    "    return pi * radius ** 2\n",
    "\n",
    "print(calculate_area(10))"
   ]
  },
  {
   "cell_type": "code",
   "execution_count": 7,
   "metadata": {},
   "outputs": [
    {
     "name": "stdout",
     "output_type": "stream",
     "text": [
      "3\n"
     ]
    }
   ],
   "source": [
    "# Modifying a global variable inside a function\n",
    "count = 0\n",
    "\n",
    "def increment():\n",
    "    global count\n",
    "    count += 1\n",
    "\n",
    "increment()\n",
    "increment()\n",
    "increment()\n",
    "\n",
    "print(count)"
   ]
  },
  {
   "cell_type": "markdown",
   "metadata": {},
   "source": [
    "__Nuggets of Wisdom__:\n",
    "\n",
    "Be mindful of variable scope when working with functions. Avoid overusing global variables, as they can add complexity and make your code harder to understand and maintain. Instead, rely on local variables to keep functions self-contained and predictable. If you need to use a global variable within a function, consider passing it as an argument rather than modifying it directly. This practice is especially important for maintaining clean, readable, and maintainable code."
   ]
  },
  {
   "cell_type": "code",
   "execution_count": 9,
   "metadata": {},
   "outputs": [
    {
     "name": "stdout",
     "output_type": "stream",
     "text": [
      "Global total after modifications: 15\n",
      "Local total using function arguments: 15\n"
     ]
    }
   ],
   "source": [
    "# Global variable\n",
    "total = 0  # Tracks the running total\n",
    "\n",
    "# Function to add a value to the total\n",
    "def add_to_total(value):\n",
    "    global total  # Modifies the global variable directly\n",
    "    total += value\n",
    "\n",
    "# Adding values\n",
    "add_to_total(5)\n",
    "add_to_total(10)\n",
    "print(f\"Global total after modifications: {total}\")\n",
    "# Output: Global total after modifications: 15\n",
    "\n",
    "# --------------------------------------------------\n",
    "\n",
    "# Cleaner alternative using local variables and arguments\n",
    "def add_values_to_total(current_total, value):\n",
    "    return current_total + value\n",
    "\n",
    "# Using the cleaner version\n",
    "local_total = 0\n",
    "local_total = add_values_to_total(local_total, 5)\n",
    "local_total = add_values_to_total(local_total, 10)\n",
    "print(f\"Local total using function arguments: {local_total}\")\n",
    "# Output: Local total using function arguments: 15"
   ]
  },
  {
   "cell_type": "markdown",
   "metadata": {},
   "source": [
    "### Last Example"
   ]
  },
  {
   "cell_type": "code",
   "execution_count": 18,
   "metadata": {},
   "outputs": [
    {
     "name": "stdout",
     "output_type": "stream",
     "text": [
      "4.081632653061225\n"
     ]
    }
   ],
   "source": [
    "# Last hurrah of an apt example: Using local and global variables in a projectile motion simulation.\n",
    "\n",
    "gravity = 9.8  # Global variable representing acceleration due to gravity (m/s²)\n",
    "\n",
    "def calculate_time_of_flight(velocity):\n",
    "    \"\"\"\n",
    "    Calculate the time of flight for a projectile.\n",
    "\n",
    "    The formula for time of flight is:\n",
    "    time = (2 * velocity) / gravity\n",
    "\n",
    "    Parameters:\n",
    "    velocity (float): The velocity of the projectile in meters per second.\n",
    "\n",
    "    Returns:\n",
    "    float: The time of flight of the projectile in seconds.\n",
    "    \"\"\"\n",
    "    time = (2 * velocity) / gravity  # Local variable for time of flight\n",
    "    return time\n",
    "\n",
    "# Example usage\n",
    "print(calculate_time_of_flight(20))"
   ]
  }
 ],
 "metadata": {
  "kernelspec": {
   "display_name": "myenv",
   "language": "python",
   "name": "python3"
  },
  "language_info": {
   "codemirror_mode": {
    "name": "ipython",
    "version": 3
   },
   "file_extension": ".py",
   "mimetype": "text/x-python",
   "name": "python",
   "nbconvert_exporter": "python",
   "pygments_lexer": "ipython3",
   "version": "3.8.20"
  }
 },
 "nbformat": 4,
 "nbformat_minor": 2
}
