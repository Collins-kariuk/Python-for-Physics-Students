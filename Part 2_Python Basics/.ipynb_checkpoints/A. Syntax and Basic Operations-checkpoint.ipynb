{
 "cells": [
  {
   "cell_type": "markdown",
   "metadata": {},
   "source": [
    "# Python’s Dynamic Typing and Data Types"
   ]
  },
  {
   "cell_type": "markdown",
   "metadata": {},
   "source": [
    "Python is a __dynamically typed language__. This means that you don't have to declare the type of a variable when you declare it. Python automatically assigns (or infers) the data type to the variable based on the type of value it is assigned. This is in contrast to statically typed languages like C, C++, Java, etc., where you have to declare the type of a variable when you declare it. This makes Python flexible and beginner-friendly while still being powerful for complex tasks."
   ]
  },
  {
   "cell_type": "code",
   "execution_count": null,
   "metadata": {},
   "outputs": [],
   "source": [
    "radius = 10 # radius of the circle, which is inferred to be an integer, 10\n",
    "\n",
    "area = 3.14159 * radius ** 2 # area of the circle, which is inferred to be a float, 314.159\n",
    "\n",
    "salutations = \"Wubba Lubba Dub Dub\" # salutations, which is inferred to be a string, \"Wubba Lubba Dub Dub\"\n",
    "\n",
    "tobeornottobe = True # tobeornottobe, which is inferred to be a boolean, True"
   ]
  },
  {
   "cell_type": "markdown",
   "metadata": {},
   "source": [
    "A cool thing about Python is that you can reassign a variable to a different data type."
   ]
  },
  {
   "cell_type": "code",
   "execution_count": null,
   "metadata": {},
   "outputs": [],
   "source": [
    "x = 5\n",
    "print(x)\n",
    "\n",
    "x = \"Hello darkness my old friend\"\n",
    "print(x) # x is first assigned to 5, then reassigned to \"Hello darkness my old friend\" which is a string"
   ]
  },
  {
   "cell_type": "markdown",
   "metadata": {},
   "source": [
    "## Data Types in Python."
   ]
  },
  {
   "cell_type": "markdown",
   "metadata": {},
   "source": [
    "We've referenced data types a few times now, but _what are they?_\n",
    "\n",
    "Data types, simply put, are categories that classify data items. They define the nature of the data a variable or object can hold and guide how the computer interprets and processes that data. A data type determines the type of value a variable contains and the operations that can be performed on it. In Python, data types are broadly divided into two categories:\n",
    "\n",
    "1. __Built-in Data Types__: These are the data types that are already defined in Python. They are also called primitive data types. Some examples of built-in data types in Python are `int`, `float`, `complex`, `str`, `bool`, `list`, `tuple`, `set`, `dict`, etc.\n",
    "\n",
    "2. __User-defined Data Types__: These are the data types that are defined by the user. Some examples of user-defined data types in Python are `class`, `object`, `module`, `function`, etc.\n",
    "\n",
    "In this notebook, we will focus on the built-in data types in Python."
   ]
  },
  {
   "cell_type": "markdown",
   "metadata": {},
   "source": [
    "### Integers"
   ]
  },
  {
   "cell_type": "markdown",
   "metadata": {},
   "source": [
    "Integers are whole numbers, positive, negative, or 0, without decimals, of unlimited length. For example, `2`, `-4`, `0`, `100`, etc., are integers. In Python, integers are of type `int`.\n",
    "\n",
    "Pro-tip: You can use the `type()` function to check the data type of a variable."
   ]
  },
  {
   "cell_type": "code",
   "execution_count": 7,
   "metadata": {},
   "outputs": [
    {
     "name": "stdout",
     "output_type": "stream",
     "text": [
      "<class 'int'>\n"
     ]
    }
   ],
   "source": [
    "length = 47\n",
    "print(type(length)) # length is inferred to be an integer, 47\n",
    "# <class 'int'>"
   ]
  },
  {
   "cell_type": "markdown",
   "metadata": {},
   "source": [
    "You can perform arithmetic operations on integers, such as addition, subtraction, multiplication, division, etc. Examples:"
   ]
  },
  {
   "cell_type": "code",
   "execution_count": 6,
   "metadata": {},
   "outputs": [
    {
     "name": "stdout",
     "output_type": "stream",
     "text": [
      "19\n",
      "-1\n",
      "90\n",
      "0\n",
      "9\n"
     ]
    }
   ],
   "source": [
    "a = 9\n",
    "b = 10\n",
    "c = a + b # addition of x and y, which is inferred to be an integer, 19\n",
    "print(c)\n",
    "\n",
    "d = a - b # subtraction of x and y, which is inferred to be an integer, -1\n",
    "print(d)\n",
    "\n",
    "e = a * b # multiplication of x and y, which is inferred to be an integer, 90\n",
    "print(e)\n",
    "\n",
    "f = a // b # truncation (floor division) of x and y, which is inferred to be an integer, 0\n",
    "print(f)\n",
    "\n",
    "g = a % b # modulus, or remainder of x divided by y, which is inferred to be an integer, 9\n",
    "print(g)"
   ]
  },
  {
   "cell_type": "markdown",
   "metadata": {},
   "source": [
    "### Floats"
   ]
  },
  {
   "cell_type": "markdown",
   "metadata": {},
   "source": [
    "Floats are real numbers with a decimal point. For example, `2.0`, `-4.5`, `0.0`, `100.1`, etc., are floats. In Python, floats are of type `float`. Examples include:"
   ]
  },
  {
   "cell_type": "code",
   "execution_count": 12,
   "metadata": {},
   "outputs": [
    {
     "name": "stdout",
     "output_type": "stream",
     "text": [
      "<class 'float'>\n"
     ]
    }
   ],
   "source": [
    "PI = 3.14159\n",
    "radius = 47.74\n",
    "print(type(radius)) # width is inferred to be a float, 47.74"
   ]
  },
  {
   "cell_type": "markdown",
   "metadata": {},
   "source": [
    "Likewise, you can perform arithmetic operations on floats, such as addition, subtraction, multiplication, division, etc."
   ]
  },
  {
   "cell_type": "code",
   "execution_count": null,
   "metadata": {},
   "outputs": [
    {
     "name": "stdout",
     "output_type": "stream",
     "text": [
      "7160.021645084001\n"
     ]
    }
   ],
   "source": [
    "# Arithmetic operations on floats using real-world examples\n",
    "radius = 47.74\n",
    "area = PI * (radius ** 2) # area of a circle with radius equal to width, which is inferred to be a float, 7134.926\n",
    "print(area)"
   ]
  },
  {
   "cell_type": "markdown",
   "metadata": {},
   "source": [
    "### Strings"
   ]
  },
  {
   "cell_type": "markdown",
   "metadata": {},
   "source": [
    "Strings are another data type in Python. They are sequences of characters enclosed in single quotes (`'`), double quotes (`\"`), or triple quotes (`\"\"\"`, for multi-line strings). For example, `'Hello'`, `\"World\"`, `'123'`, `\"Python\"`, etc., are strings. In Python, strings are of type `str`. Examples include:"
   ]
  },
  {
   "cell_type": "code",
   "execution_count": 18,
   "metadata": {},
   "outputs": [
    {
     "name": "stdout",
     "output_type": "stream",
     "text": [
      "I'm Bond, James Bond\n",
      "<class 'str'>\n"
     ]
    }
   ],
   "source": [
    "# Example of using strings in Python\n",
    "\n",
    "first_name = \"James\"\n",
    "last_name = \"Bond\"\n",
    "introduction = \"I'm \" + last_name + \", \" + first_name + \" \" + last_name\n",
    "print(introduction)\n",
    "\n",
    "long_string = \"\"\"\n",
    "                This is a multi-line string, which you can create by using triple quotes.\n",
    "                It can be used to create a string that spans multiple lines.\n",
    "            \"\"\"\n",
    "\n",
    "print(type(long_string)) # long_string is inferred to be a string"
   ]
  },
  {
   "cell_type": "markdown",
   "metadata": {},
   "source": [
    "Some common operations you can perform on strings include concatenation, slicing, indexing, etc.\n",
    "\n",
    "Concatenation is the process of combining two or more strings into a single string. You can concatenate strings using the `+` operator. See the example below.\n",
    "\n",
    "Slicing is the process of extracting a substring from a string. You can slice strings using the `[]` operator. See the example below.\n",
    "\n",
    "Indexing is the process of accessing individual characters in a string. You can index strings using the `[]` operator. See the example below.\n",
    "\n",
    "You can also use the `len()` function to get the length of a string."
   ]
  },
  {
   "cell_type": "code",
   "execution_count": 3,
   "metadata": {},
   "outputs": [
    {
     "name": "stdout",
     "output_type": "stream",
     "text": [
      "Houston, we have a problem!\n",
      "27\n"
     ]
    }
   ],
   "source": [
    "# Using concatentation to create a new string\n",
    "place = \"Houston\"\n",
    "short_message = \"we have a problem!\"\n",
    "warning = place + \", \" + short_message\n",
    "print(warning)\n",
    "print(len(warning)) # length of the warning message"
   ]
  },
  {
   "cell_type": "code",
   "execution_count": 34,
   "metadata": {},
   "outputs": [
    {
     "name": "stdout",
     "output_type": "stream",
     "text": [
      "Houston Houston , we have a problem\n"
     ]
    }
   ],
   "source": [
    "# Using repetition to create a new string\n",
    "warning = (place + \" \") * 2  + \", \" + short_message\n",
    "print(warning)\n",
    "# Above, we're using the * operator to repeat the string \"Houston\" twice, and then concatenate it with \", we have a problem!\""
   ]
  },
  {
   "cell_type": "markdown",
   "metadata": {},
   "source": [
    "Indexing in Python is zero-based, meaning the first element in a sequence has an index of `0`, the second element has an index of `1`, and so on. You can index into a string using positive or negative indices. Positive indices start from the beginning of the string (starting at `0`), while negative indices start from the end of the string (starting at `-1`).\n",
    "\n",
    "Indexing can prove useful when you want to access individual characters in a string or extract substrings (slicing)."
   ]
  },
  {
   "cell_type": "code",
   "execution_count": 1,
   "metadata": {},
   "outputs": [
    {
     "name": "stdout",
     "output_type": "stream",
     "text": [
      "H\n",
      "W\n",
      "!\n"
     ]
    }
   ],
   "source": [
    "# Indexing in Python strings\n",
    "greeting = \"Hello, World!\"\n",
    "print(greeting[0]) # H\n",
    "print(greeting[7]) # W\n",
    "print(greeting[-1]) # !"
   ]
  },
  {
   "cell_type": "markdown",
   "metadata": {},
   "source": [
    "Slicing strings in Python is a powerful feature that allows you to extract substrings from a string. You can slice strings using the `[]` operator.\n",
    "\n",
    "The syntax for slicing strings is `string[start:stop:step]`. The `start` parameter specifies the starting index of the substring, the `stop` parameter specifies the ending index of the substring, and the `step` parameter specifies the step size for slicing. If you omit the `start` parameter, Python will start slicing from the beginning of the string. If you omit the `stop` parameter, Python will slice until the end of the string. If you omit the `step` parameter, Python will slice with a step size of 1. Examples:"
   ]
  },
  {
   "cell_type": "code",
   "execution_count": 4,
   "metadata": {},
   "outputs": [
    {
     "name": "stdout",
     "output_type": "stream",
     "text": [
      "Original String: Hello, World!\n",
      "New String: World\n"
     ]
    }
   ],
   "source": [
    "# Using slicing to create a new string\n",
    "original_string = \"Hello, World!\"\n",
    "\n",
    "# Using slicing to create a new string\n",
    "new_string = original_string[7:12]  # Extracts characters from index 7 to 11\n",
    "print(\"Original String:\", original_string)\n",
    "print(\"New String:\", new_string)"
   ]
  },
  {
   "cell_type": "markdown",
   "metadata": {},
   "source": [
    "### Booleans"
   ]
  },
  {
   "cell_type": "markdown",
   "metadata": {},
   "source": [
    "Booleans are a fundamental data type in Python, representing truth values: True or False. They belong to the bool type in Python. At first glance, booleans might seem limited since they only hold True or False. However, they play a crucial role in programming, especially in control flow statements like if, else, elif, while, and for, which we’ll explore later. Booleans form the backbone of logic in programming, making them a powerful and indispensable tool."
   ]
  },
  {
   "cell_type": "code",
   "execution_count": 5,
   "metadata": {},
   "outputs": [
    {
     "name": "stdout",
     "output_type": "stream",
     "text": [
      "<class 'bool'>\n"
     ]
    }
   ],
   "source": [
    "isPhysicsFun = True\n",
    "isCloudywithaChanceofMeatballs = False\n",
    "print(type(isPhysicsFun)) # isPhysicsFun is inferred to be a boolean"
   ]
  },
  {
   "cell_type": "markdown",
   "metadata": {},
   "source": [
    "💡 Something to note is that Python is case-sensitive, meaning that `True` and `False` are not the same as `true` and `false`."
   ]
  },
  {
   "cell_type": "markdown",
   "metadata": {},
   "source": [
    "Booleans support basic operations like logical AND, OR, and NOT, which might seem confusing at first. However, you can think of them as the English words “and,” “or,” and “not.” For example, consider the sentence, “I want to eat pizza and drink soda.” Here, “and” indicates that both conditions must be true. If you’re okay with either one happening, you’d use “or.” If you want the opposite of a condition, you’d use “not.” These operations help translate everyday logic into programming."
   ]
  },
  {
   "cell_type": "code",
   "execution_count": 6,
   "metadata": {},
   "outputs": [
    {
     "name": "stdout",
     "output_type": "stream",
     "text": [
      "Eligible for discount (AND): True\n",
      "Eligible for discount (OR): True\n",
      "Not eligible for discount: False\n"
     ]
    }
   ],
   "source": [
    "# Checking eligibility for a discount\n",
    "is_student = True\n",
    "is_senior = False\n",
    "has_coupon = True\n",
    "\n",
    "# Logical AND: Both conditions must be true\n",
    "eligible_for_discount_and = is_student and has_coupon\n",
    "print(\"Eligible for discount (AND):\", eligible_for_discount_and)  # Output: True\n",
    "\n",
    "# Logical OR: At least one condition must be true\n",
    "eligible_for_discount_or = is_student or is_senior\n",
    "print(\"Eligible for discount (OR):\", eligible_for_discount_or)  # Output: True\n",
    "\n",
    "# Logical NOT: Negates the condition\n",
    "not_eligible = not is_student\n",
    "print(\"Not eligible for discount:\", not_eligible)  # Output: False"
   ]
  },
  {
   "cell_type": "markdown",
   "metadata": {},
   "source": [
    "## Converting Between Data Types"
   ]
  },
  {
   "cell_type": "markdown",
   "metadata": {},
   "source": [
    "You can convert between different data types in Python using built-in functions like `int()`, `float()`, `str()`, etc. These functions take a value as input and return the value converted to the specified data type.\n",
    "\n",
    "int(): Convert to integer. \\\n",
    "float(): Convert to float. \\\n",
    "str(): Convert to string. \\\n",
    "bool(): Convert to boolean.\n",
    "\n",
    "Examples:"
   ]
  },
  {
   "cell_type": "code",
   "execution_count": 8,
   "metadata": {},
   "outputs": [
    {
     "name": "stdout",
     "output_type": "stream",
     "text": [
      "42\n",
      "<class 'str'>\n",
      "42.0\n",
      "True\n"
     ]
    }
   ],
   "source": [
    "num = 42\n",
    "str_num = str(num) # Converts integer to string\n",
    "print(str_num) # Output: \"42\"\n",
    "print(type(str_num)) # Output: <class 'str'>\n",
    "\n",
    "float_num = float(num) # Converts integer to float\n",
    "print(float_num) # Output: 42.0\n",
    "\n",
    "is_happy = bool(1) # Converts 1 to True\n",
    "print(is_happy) # Output: True"
   ]
  },
  {
   "cell_type": "markdown",
   "metadata": {},
   "source": [
    "💡 You already know you can check the type of a variable using the `type()` function. For conditions checks, you can use the `isinstance()` function. This function checks if a variable is an instance of a particular data type and returns True or False. The syntax is `isinstance(variable, data_type)`. Examples:"
   ]
  },
  {
   "cell_type": "code",
   "execution_count": 9,
   "metadata": {},
   "outputs": [
    {
     "name": "stdout",
     "output_type": "stream",
     "text": [
      "True\n",
      "True\n"
     ]
    }
   ],
   "source": [
    "# Check if a variable is an integer\n",
    "num = 47\n",
    "print(isinstance(num, int))  # Output: True\n",
    "\n",
    "# Check if a variable is a float\n",
    "num = 47.0\n",
    "print(isinstance(num, float))  # Output: True"
   ]
  },
  {
   "cell_type": "markdown",
   "metadata": {},
   "source": [
    "## Conclusion"
   ]
  },
  {
   "cell_type": "markdown",
   "metadata": {},
   "source": [
    "Dynamic typing is flexible but it can also lead to bugs if you're not careful. It's important to understand the data types in Python and how to work with them. In this notebook, we covered some of the built-in data types in Python, including integers, floats, strings, and booleans. We also discussed how to convert between data types using built-in functions like `int()`, `float()`, `str()`, and `bool()`. Understanding data types is crucial for writing correct and efficient code in Python."
   ]
  },
  {
   "cell_type": "markdown",
   "metadata": {},
   "source": [
    "To write clearer code, you should:\n",
    "\n",
    "- Use meaningful and descriptive variable names. For instance, use `age` instead of `a` or `name` instead of `n`. Take a look at this website for more information on naming conventions: [Variables in Python: Usage and Best Practices](https://realpython.com/python-variables/)\n",
    "\n",
    "- Comment your code to explain what it does. This will help you and others understand the code later on. Take a look at this website for more information on commenting: [Python Comments](https://www.w3schools.com/python/python_comments.asp)\n",
    "\n",
    "- You can use type hints to specify the data type of a variable. This can make your code easier to understand and maintain. This is especially useful in larger projects. For example, take a look at the function below which uses type hints:"
   ]
  },
  {
   "cell_type": "code",
   "execution_count": 10,
   "metadata": {},
   "outputs": [],
   "source": [
    "def add(a: int, b: int) -> int:\n",
    "    return a + b"
   ]
  }
 ],
 "metadata": {
  "kernelspec": {
   "display_name": "myenv",
   "language": "python",
   "name": "python3"
  },
  "language_info": {
   "codemirror_mode": {
    "name": "ipython",
    "version": 3
   },
   "file_extension": ".py",
   "mimetype": "text/x-python",
   "name": "python",
   "nbconvert_exporter": "python",
   "pygments_lexer": "ipython3",
   "version": "3.8.20"
  }
 },
 "nbformat": 4,
 "nbformat_minor": 2
}
