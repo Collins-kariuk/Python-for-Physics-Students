{
 "cells": [
  {
   "cell_type": "markdown",
   "metadata": {},
   "source": [
    "# Python’s Dynamic Typing and Data Types"
   ]
  },
  {
   "cell_type": "markdown",
   "metadata": {},
   "source": [
    "Python is a __dynamically typed language__. This means that you don't have to declare the type of a variable when you declare it. Python automatically assigns (or infers) the data type to the variable based on the type of value it is assigned. This is in contrast to statically typed languages like C, C++, Java, etc., where you have to declare the type of a variable when you declare it. This makes Python flexible and beginner-friendly while still being powerful for complex tasks."
   ]
  },
  {
   "cell_type": "code",
   "execution_count": null,
   "metadata": {},
   "outputs": [],
   "source": [
    "radius = 10 # radius of the circle, which is inferred to be an integer, 10\n",
    "\n",
    "area = 3.14159 * radius ** 2 # area of the circle, which is inferred to be a float, 314.159\n",
    "\n",
    "salutations = \"Wubba Lubba Dub Dub\" # salutations, which is inferred to be a string, \"Wubba Lubba Dub Dub\"\n",
    "\n",
    "tobeornottobe = True # tobeornottobe, which is inferred to be a boolean, True"
   ]
  },
  {
   "cell_type": "markdown",
   "metadata": {},
   "source": [
    "A cool thing about Python is that you can reassing a variable to a different data type."
   ]
  },
  {
   "cell_type": "code",
   "execution_count": null,
   "metadata": {},
   "outputs": [],
   "source": [
    "x = 5\n",
    "print(x)\n",
    "\n",
    "x = \"Hello darkness my old friend\"\n",
    "print(x) # x is first assigned to 5, then reassigned to \"Hello darkness my old friend\" which is a string"
   ]
  },
  {
   "cell_type": "markdown",
   "metadata": {},
   "source": [
    "## Data Types in Python."
   ]
  },
  {
   "cell_type": "markdown",
   "metadata": {},
   "source": [
    "We've referenced data types a few times now, but _what are they?_\n",
    "\n",
    "Data types, simply put, are categories that classify data items. They define the nature of the data a variable or object can hold and guide how the computer interprets and processes that data. A data type determines the type of value a variable contains and the operations that can be performed on it. In Python, data types are broadly divided into two categories:\n",
    "\n",
    "1. __Built-in Data Types__: These are the data types that are already defined in Python. They are also called primitive data types. Some examples of built-in data types in Python are `int`, `float`, `complex`, `str`, `bool`, `list`, `tuple`, `set`, `dict`, etc.\n",
    "\n",
    "2. __User-defined Data Types__: These are the data types that are defined by the user. Some examples of user-defined data types in Python are `class`, `object`, `module`, `function`, etc.\n",
    "\n",
    "In this notebook, we will focus on the built-in data types in Python."
   ]
  },
  {
   "cell_type": "markdown",
   "metadata": {},
   "source": [
    "### Integers"
   ]
  },
  {
   "cell_type": "markdown",
   "metadata": {},
   "source": [
    "Integers are whole numbers, positive, negative, or 0, without decimals, of unlimited length. For example, `2`, `-4`, `0`, `100`, etc., are integers. In Python, integers are of type `int`.\n",
    "\n",
    "Pro-tip: You can use the `type()` function to check the data type of a variable."
   ]
  },
  {
   "cell_type": "code",
   "execution_count": 3,
   "metadata": {},
   "outputs": [
    {
     "name": "stdout",
     "output_type": "stream",
     "text": [
      "<class 'int'>\n"
     ]
    }
   ],
   "source": [
    "length = 47\n",
    "print(type(length)) # length is inferred to be an integer, 47\n",
    "# <class 'int'>\n"
   ]
  },
  {
   "cell_type": "markdown",
   "metadata": {},
   "source": [
    "You can perform arithmetic operations on integers, such as addition, subtraction, multiplication, division, etc. Examples:"
   ]
  },
  {
   "cell_type": "code",
   "execution_count": 6,
   "metadata": {},
   "outputs": [
    {
     "name": "stdout",
     "output_type": "stream",
     "text": [
      "19\n",
      "-1\n",
      "90\n",
      "0\n",
      "9\n"
     ]
    }
   ],
   "source": [
    "a = 9\n",
    "b = 10\n",
    "c = a + b # addition of x and y, which is inferred to be an integer, 19\n",
    "print(c)\n",
    "\n",
    "d = a - b # subtraction of x and y, which is inferred to be an integer, -1\n",
    "print(d)\n",
    "\n",
    "e = a * b # multiplication of x and y, which is inferred to be an integer, 90\n",
    "print(e)\n",
    "\n",
    "f = a // b # truncation (floor division) of x and y, which is inferred to be an integer, 0\n",
    "print(f)\n",
    "\n",
    "g = a % b # modulus, or remainder of x divided by y, which is inferred to be an integer, 9\n",
    "print(g)"
   ]
  },
  {
   "cell_type": "markdown",
   "metadata": {},
   "source": [
    "### Floats"
   ]
  },
  {
   "cell_type": "markdown",
   "metadata": {},
   "source": [
    "Floats are real numbers with a decimal point. For example, `2.0`, `-4.5`, `0.0`, `100.1`, etc., are floats. In Python, floats are of type `float`. Examples include:"
   ]
  },
  {
   "cell_type": "code",
   "execution_count": 12,
   "metadata": {},
   "outputs": [
    {
     "name": "stdout",
     "output_type": "stream",
     "text": [
      "<class 'float'>\n"
     ]
    }
   ],
   "source": [
    "PI = 3.14159\n",
    "radius = 47.74\n",
    "print(type(radius)) # width is inferred to be a float, 47.74"
   ]
  },
  {
   "cell_type": "markdown",
   "metadata": {},
   "source": [
    "Likewise, you can perform arithmetic operations on floats, such as addition, subtraction, multiplication, division, etc."
   ]
  },
  {
   "cell_type": "code",
   "execution_count": null,
   "metadata": {},
   "outputs": [
    {
     "name": "stdout",
     "output_type": "stream",
     "text": [
      "7160.021645084001\n"
     ]
    }
   ],
   "source": [
    "# Arithmetic operations on floats using real-world examples\n",
    "radius = 47.74\n",
    "area = PI * (radius ** 2) # area of a circle with radius equal to width, which is inferred to be a float, 7134.926\n",
    "print(area)"
   ]
  },
  {
   "cell_type": "markdown",
   "metadata": {},
   "source": [
    "### Strings"
   ]
  },
  {
   "cell_type": "markdown",
   "metadata": {},
   "source": [
    "Strings are another data type in Python. They are sequences of characters enclosed in single quotes (`'`), double quotes (`\"`), or triple quotes (`\"\"\"`, for multi-line strings). For example, `'Hello'`, `\"World\"`, `'123'`, `\"Python\"`, etc., are strings. In Python, strings are of type `str`. Examples include:"
   ]
  },
  {
   "cell_type": "code",
   "execution_count": 18,
   "metadata": {},
   "outputs": [
    {
     "name": "stdout",
     "output_type": "stream",
     "text": [
      "I'm Bond, James Bond\n",
      "<class 'str'>\n"
     ]
    }
   ],
   "source": [
    "# Example of using strings in Python\n",
    "\n",
    "first_name = \"James\"\n",
    "last_name = \"Bond\"\n",
    "introduction = \"I'm \" + last_name + \", \" + first_name + \" \" + last_name\n",
    "print(introduction)\n",
    "\n",
    "long_string = \"\"\"\n",
    "                This is a multi-line string, which you can create by using triple quotes.\n",
    "                It can be used to create a string that spans multiple lines.\n",
    "            \"\"\"\n",
    "\n",
    "print(type(long_string)) # long_string is inferred to be a string"
   ]
  },
  {
   "cell_type": "markdown",
   "metadata": {},
   "source": [
    "Some common operations you can perform on strings include concatenation, slicing, indexing, etc.\n",
    "\n",
    "Concatenation is the process of combining two or more strings into a single string. You can concatenate strings using the `+` operator. See the example below.\n",
    "\n",
    "Slicing is the process of extracting a substring from a string. You can slice strings using the `[]` operator. See the example below.\n",
    "\n",
    "Indexing is the process of accessing individual characters in a string. You can index strings using the `[]` operator. See the example below.\n",
    "\n",
    "You can also use the `len()` function to get the length of a string."
   ]
  },
  {
   "cell_type": "code",
   "execution_count": null,
   "metadata": {},
   "outputs": [
    {
     "name": "stdout",
     "output_type": "stream",
     "text": [
      "Houston, we have a problem\n"
     ]
    }
   ],
   "source": [
    "# Using concatentation to create a new string\n",
    "place = \"Houston\"\n",
    "short_message = \"we have a problem!\"\n",
    "warning = place + \", \" + short_message\n",
    "print(warning)"
   ]
  },
  {
   "cell_type": "code",
   "execution_count": 34,
   "metadata": {},
   "outputs": [
    {
     "name": "stdout",
     "output_type": "stream",
     "text": [
      "Houston Houston , we have a problem\n"
     ]
    }
   ],
   "source": [
    "# Using repetition to create a new string\n",
    "warning = (place + \" \") * 2  + \", \" + short_message\n",
    "print(warning)\n",
    "# Above, we're using the * operator to repeat the string \"Houston\" twice, and then concatenate it with \", we have a problem!\""
   ]
  },
  {
   "cell_type": "markdown",
   "metadata": {},
   "source": [
    "Slicing strings in Python is a powerful feature that allows you to extract substrings from a string. You can slice strings using the `[]` operator. The syntax for slicing strings is `string[start:stop:step]`. The `start` parameter specifies the starting index of the substring, the `stop` parameter specifies the ending index of the substring, and the `step` parameter specifies the step size for slicing. If you omit the `start` parameter, Python will start slicing from the beginning of the string. If you omit the `stop` parameter, Python will slice until the end of the string. If you omit the `step` parameter, Python will slice with a step size of 1. Examples:"
   ]
  },
  {
   "cell_type": "code",
   "execution_count": 35,
   "metadata": {},
   "outputs": [
    {
     "name": "stdout",
     "output_type": "stream",
     "text": [
      "Original String: Hello, World!\n",
      "New String: World\n"
     ]
    }
   ],
   "source": [
    "# Using slicing to create a new string\n",
    "original_string = \"Hello, World!\"\n",
    "\n",
    "# Using slicing to create a new string\n",
    "new_string = original_string[7:12]  # Extracts characters from index 7 to 11\n",
    "print(\"Original String:\", original_string)\n",
    "print(\"New String:\", new_string)"
   ]
  },
  {
   "cell_type": "code",
   "execution_count": null,
   "metadata": {},
   "outputs": [],
   "source": []
  }
 ],
 "metadata": {
  "kernelspec": {
   "display_name": "myenv",
   "language": "python",
   "name": "python3"
  },
  "language_info": {
   "codemirror_mode": {
    "name": "ipython",
    "version": 3
   },
   "file_extension": ".py",
   "mimetype": "text/x-python",
   "name": "python",
   "nbconvert_exporter": "python",
   "pygments_lexer": "ipython3",
   "version": "3.8.20"
  }
 },
 "nbformat": 4,
 "nbformat_minor": 2
}
