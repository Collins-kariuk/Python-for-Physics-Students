{
 "cells": [
  {
   "cell_type": "markdown",
   "metadata": {},
   "source": [
    "# Functions in Python"
   ]
  },
  {
   "cell_type": "markdown",
   "metadata": {},
   "source": [
    "A function is a reusable block of code that performs a specific task and runs only when called. You can pass information to a function using parameters, and it can return data as a result. Functions help organize your code into manageable and reusable parts, making programs more structured, readable, and easier to maintain by breaking down complex problems into smaller, simpler components.\n",
    "\n",
    "To demonstrate the usefulness of functions, let’s consider a simple example. Imagine you need to calculate the area of a circle in your program. While you could write the code for this calculation directly, repeating it multiple times throughout your program would be inefficient. Instead, you can create a function called `calculate_area` that takes the circle’s radius as input and returns the calculated area. By doing this, you can reuse the function whenever you need to calculate the area, making your code cleaner and more efficient."
   ]
  },
  {
   "cell_type": "markdown",
   "metadata": {},
   "source": []
  }
 ],
 "metadata": {
  "language_info": {
   "name": "python"
  }
 },
 "nbformat": 4,
 "nbformat_minor": 2
}
