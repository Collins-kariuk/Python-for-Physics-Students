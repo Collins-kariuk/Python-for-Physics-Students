{
 "cells": [
  {
   "cell_type": "markdown",
   "metadata": {},
   "source": [
    "# Functions in Python"
   ]
  },
  {
   "cell_type": "markdown",
   "metadata": {},
   "source": [
    "Imagine you’re running a small Circle Factory that produces circular plates of various sizes. Your job is to calculate the area of each plate so customers know how much material they’ll need. At first, it’s simple—you write the formula for the area of a circle ($\\pi r^2$) directly into your program every time you need it. This works fine when you only have a few plates to calculate.\n",
    "\n",
    "But soon, business booms! You’re flooded with orders for plates of different sizes. Every time you calculate the area, you find yourself copying and pasting the same formula into different parts of your code. It’s repetitive, error-prone, and frustrating.\n",
    "\n",
    "Then, a brilliant idea hits you: _Why not create a single function that calculates the area of a circle?_ You could write this once, call it calculate_area, and reuse it every time you need to find the area of a plate. Suddenly, your factory runs more smoothly. With just one function, you can handle any number of orders efficiently and accurately.\n",
    "\n",
    "Now, whenever an order comes in, you simply call the function with the radius of the plate.\n",
    "\n",
    "With this approach, your code is cleaner, easier to read, and far less repetitive. You’ve not only optimized your workflow but also created a reusable tool that saves time and reduces mistakes.\n",
    "\n",
    "In this notebook, you’ll learn how to create and use functions in Python. You’ll see how functions can help you write cleaner, more efficient code, and how they can make your programs more powerful and flexible."
   ]
  },
  {
   "cell_type": "markdown",
   "metadata": {},
   "source": [
    "## Defining and Calling Functions"
   ]
  },
  {
   "cell_type": "markdown",
   "metadata": {},
   "source": [
    "Functions are reusable blocks of code that perform a specific task. You can define a function using the `def` keyword, followed by the function’s name, a pair of parentheses, and a colon. The code inside the function is indented. After defining a function, you can call it by using the function’s name followed by a pair of parentheses. An example:"
   ]
  },
  {
   "cell_type": "code",
   "execution_count": 1,
   "metadata": {},
   "outputs": [
    {
     "name": "stdout",
     "output_type": "stream",
     "text": [
      "The area of the plate is 314.159 square units.\n"
     ]
    }
   ],
   "source": [
    "def calculate_area(radius):\n",
    "    pi = 3.14159\n",
    "    return pi * radius ** 2\n",
    "\n",
    "radius = 10\n",
    "print(f\"The area of the plate is {calculate_area(radius)} square units.\")"
   ]
  },
  {
   "cell_type": "markdown",
   "metadata": {},
   "source": [
    "Functions are helpful when you need to perform a specific task repeatedly in your code. Instead of duplicating the same code each time, you can simply call the function. For example, rather than rewriting the code to calculate the area of a circle multiple times, you can use the `calculate_area` function whenever needed."
   ]
  },
  {
   "cell_type": "markdown",
   "metadata": {},
   "source": [
    "## Parameters and Arguments"
   ]
  },
  {
   "cell_type": "markdown",
   "metadata": {},
   "source": [
    "For a function to perform a task, it often needs some information. You can provide this information using parameters. Parameters are variables that enable data to be sent to the function. When you call a function, you specify the values that the parameters will take. These values are called arguments. Here’s an example:"
   ]
  },
  {
   "cell_type": "code",
   "execution_count": 3,
   "metadata": {},
   "outputs": [
    {
     "name": "stdout",
     "output_type": "stream",
     "text": [
      "15\n"
     ]
    }
   ],
   "source": [
    "def add_numbers(a, b):\n",
    "    return a + b\n",
    "\n",
    "result = add_numbers(5, 10)\n",
    "\n",
    "print(result)"
   ]
  },
  {
   "cell_type": "markdown",
   "metadata": {},
   "source": [
    "A function can have multiple parameters. Moreover, you can provide default values for parameters. If a function is called without providing an argument for a parameter with a default value, the default value is used. Here’s an example:"
   ]
  },
  {
   "cell_type": "code",
   "execution_count": 4,
   "metadata": {},
   "outputs": [
    {
     "name": "stdout",
     "output_type": "stream",
     "text": [
      "Hello, Alice!\n",
      "Hello, Guest!\n"
     ]
    }
   ],
   "source": [
    "def greet(name=\"Guest\"):\n",
    "    print(f\"Hello, {name}!\")\n",
    "\n",
    "greet(\"Alice\")\n",
    "greet() # Output: Hello, Guest!"
   ]
  },
  {
   "cell_type": "markdown",
   "metadata": {},
   "source": [
    "## Return Values"
   ]
  },
  {
   "cell_type": "markdown",
   "metadata": {},
   "source": [
    "Functions can return data as a result using the `return` keyword. This allows a function to send a value back to the code that called it, enabling the returned value to be used elsewhere in the program."
   ]
  },
  {
   "cell_type": "code",
   "execution_count": null,
   "metadata": {},
   "outputs": [
    {
     "name": "stdout",
     "output_type": "stream",
     "text": [
      "5\n"
     ]
    }
   ],
   "source": [
    "def subtract_numbers(a, b):\n",
    "    return a - b\n",
    "\n",
    "result = subtract_numbers(10, 5)\n",
    "print(result)"
   ]
  },
  {
   "cell_type": "markdown",
   "metadata": {},
   "source": [
    "A function can return multiple values as a tuple, which is a sequence of values separated by commas (you’ll learn more about tuples in a later tutorial). An example:"
   ]
  },
  {
   "cell_type": "code",
   "execution_count": 11,
   "metadata": {},
   "outputs": [
    {
     "name": "stdout",
     "output_type": "stream",
     "text": [
      "Area: 78.53975, Circumference: 31.4159\n"
     ]
    }
   ],
   "source": [
    "def calculate_area_and_circumference(radius):\n",
    "    pi = 3.14159\n",
    "    area = pi * radius ** 2\n",
    "    circumference = 2 * pi * radius\n",
    "    return area, circumference\n",
    "\n",
    "area, circumference = calculate_area_and_circumference(5)\n",
    "print(f\"Area: {area}, Circumference: {circumference}\")"
   ]
  },
  {
   "cell_type": "markdown",
   "metadata": {},
   "source": [
    "Return values can be used directly in calculations or conditions. An example:"
   ]
  },
  {
   "cell_type": "code",
   "execution_count": 13,
   "metadata": {},
   "outputs": [
    {
     "name": "stdout",
     "output_type": "stream",
     "text": [
      "14\n"
     ]
    }
   ],
   "source": [
    "def add(a, b):\n",
    "    return a + b\n",
    "\n",
    "result = add(3, 4) * 2 \n",
    "print(result)"
   ]
  },
  {
   "cell_type": "markdown",
   "metadata": {},
   "source": [
    "On the more compact and complex side, functions can be used within conditional logic to determine and return a boolean value. For example:"
   ]
  },
  {
   "cell_type": "code",
   "execution_count": null,
   "metadata": {},
   "outputs": [],
   "source": [
    "def check_even_or_odd(number):\n",
    "    return \"Even\" if number % 2 == 0 else \"Odd\"\n",
    "\n",
    "print(check_even_or_odd(5))  # Output: Odd"
   ]
  },
  {
   "cell_type": "markdown",
   "metadata": {},
   "source": [
    "Functions are incredibly beneficial for several reasons. They enhance __reusability__ by allowing the same function to be called multiple times with different arguments, eliminating the need to rewrite code. They improve __readability__ by dividing code into logical sections, making it easier to understand and follow. Additionally, they contribute to __maintainability__ by isolating specific functionality, which simplifies debugging and makes updates more straightforward."
   ]
  },
  {
   "cell_type": "markdown",
   "metadata": {},
   "source": [
    "### A Note on Naming Conventions and Documentation"
   ]
  },
  {
   "cell_type": "markdown",
   "metadata": {},
   "source": [
    "When naming functions, it’s a good practice to use descriptive names that reflect the function’s purpose. This makes your code easier to understand and maintain. Function names should be written in lowercase, with words separated by underscores. For example, calculate_area is a descriptive function name. \n",
    "\n",
    "You can also add a docstring to a function to describe what it does. A docstring is a string that appears as the first statement in a function and provides information about the function’s purpose, parameters, and return values. An example:"
   ]
  },
  {
   "cell_type": "code",
   "execution_count": 16,
   "metadata": {},
   "outputs": [
    {
     "name": "stdout",
     "output_type": "stream",
     "text": [
      "Kinetic energy: 125.0 J\n"
     ]
    }
   ],
   "source": [
    "def kinetic_energy(mass, velocity):\n",
    "    \"\"\"\n",
    "    Calculate the kinetic energy of an object.\n",
    "\n",
    "    The formula for kinetic energy is:\n",
    "    KE = 0.5 * mass * velocity^2\n",
    "\n",
    "    Parameters:\n",
    "    mass (float): The mass of the object in kilograms.\n",
    "    velocity (float): The velocity of the object in meters per second.\n",
    "\n",
    "    Returns:\n",
    "    float: The kinetic energy of the object in joules.\n",
    "    \"\"\"\n",
    "    return 0.5 * mass * velocity ** 2\n",
    "\n",
    "# Example usage:\n",
    "energy = kinetic_energy(10, 5)\n",
    "print(f\"Kinetic energy: {energy} J\")"
   ]
  },
  {
   "cell_type": "markdown",
   "metadata": {},
   "source": [
    "Docstrings are useful for documenting your code and can be accessed using the `help` function. For example, `help(calculate_area)` will display the docstring for the `calculate_area` function."
   ]
  }
 ],
 "metadata": {
  "kernelspec": {
   "display_name": "myenv",
   "language": "python",
   "name": "python3"
  },
  "language_info": {
   "codemirror_mode": {
    "name": "ipython",
    "version": 3
   },
   "file_extension": ".py",
   "mimetype": "text/x-python",
   "name": "python",
   "nbconvert_exporter": "python",
   "pygments_lexer": "ipython3",
   "version": "3.8.20"
  }
 },
 "nbformat": 4,
 "nbformat_minor": 2
}
