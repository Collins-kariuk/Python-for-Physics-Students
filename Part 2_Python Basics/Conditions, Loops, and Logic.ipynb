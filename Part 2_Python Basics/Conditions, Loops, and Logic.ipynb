{
 "cells": [
  {
   "cell_type": "markdown",
   "metadata": {},
   "source": [
    "# Conditional Logic"
   ]
  },
  {
   "cell_type": "markdown",
   "metadata": {},
   "source": [
    "Conditional logic is an important part of programming, enabling code to execute based on whether specific conditions are true or false. It also allows different actions to be taken depending on various conditions. Let’s look at a simple real-life example:\n",
    "\n",
    "Mary plans to go to the beach, but her decision depends on the weather:\n",
    "- If it’s sunny, Mary will head to the beach.\n",
    "- If it’s rainy, she’ll stay home and watch a movie.\n",
    "- If it’s cloudy, she might still go to the beach but take an umbrella with her.\n",
    "\n",
    "Here, the weather serves as the condition. If the condition is sunny, the code to send Mary to the beach will run. If it’s rainy, the code for staying home and watching a movie will execute. Additional scenarios, like cloudy weather, can be handled with extra conditions.\n",
    "\n",
    "In programming, this logic can be implemented using if, else, and elif statements:\n",
    "- `if`: Checks a condition and runs code if it’s true.\n",
    "- `else`: Executes a default block of code if the if condition isn’t met.\n",
    "- `elif`: Adds more conditions to handle additional scenarios.\n",
    "\n",
    "Conditional logic helps programs make decisions __dynamically__, just like Mary deciding what to do based on the weather."
   ]
  },
  {
   "cell_type": "code",
   "execution_count": 1,
   "metadata": {},
   "outputs": [
    {
     "name": "stdout",
     "output_type": "stream",
     "text": [
      "Let's go to Laemlee!\n"
     ]
    }
   ],
   "source": [
    "# Basic example\n",
    "temp = 30\n",
    "if temp > 30:\n",
    "    print(\"Let's go golfing!\")\n",
    "elif 20 <= temp <= 30:\n",
    "    print(\"Let's go to Laemlee!\")\n",
    "else:\n",
    "    print(\"Let's go to Baldy!\")"
   ]
  },
  {
   "cell_type": "markdown",
   "metadata": {},
   "source": [
    "## Logical Operators."
   ]
  },
  {
   "cell_type": "markdown",
   "metadata": {},
   "source": [
    "The case to use logical operators is when you want to combine multiple conditions. Python has three logical operators: `and`, `or`, and `not`. These operators allow you to create more complex conditions by combining multiple simpler conditions. Let's go back to Mary's example:\n",
    "\n",
    "- If it’s sunny and the temperature is above 25 degrees, Mary will head to the beach.\n",
    "- If it’s rainy or the temperature is below 20 degrees, she’ll stay home and watch a movie.\n",
    "- If it’s cloudy and the temperature is between 20 and 25 degrees, she might still go to the beach but take an umbrella with her.\n",
    "\n",
    "An example using all three logical operators:"
   ]
  },
  {
   "cell_type": "code",
   "execution_count": 4,
   "metadata": {},
   "outputs": [
    {
     "name": "stdout",
     "output_type": "stream",
     "text": [
      "The object is in free fall.\n"
     ]
    }
   ],
   "source": [
    "velocity = 15  # m/s\n",
    "acceleration = 9.8  # m/s²\n",
    "\n",
    "# Determine the state of the object\n",
    "if acceleration == 9.8 and velocity > 0:\n",
    "    print(\"The object is in free fall.\")\n",
    "elif velocity == 0 or acceleration == 0:\n",
    "    print(\"The object is stationary.\")\n",
    "elif not (acceleration == 9.8 and velocity > 0):\n",
    "    print(\"The object is not in free fall.\")\n",
    "else:\n",
    "    print(\"The object's state cannot be determined.\")"
   ]
  },
  {
   "cell_type": "markdown",
   "metadata": {},
   "source": [
    "# Loops"
   ]
  },
  {
   "cell_type": "markdown",
   "metadata": {},
   "source": [
    "Loops are a core concept in programming that enable the repeated execution of a block of code. They are essential for automating repetitive tasks, performing calculations, running simulations, and processing data efficiently. By iterating over data or conditions, loops help simplify complex workflows. In Python, there are two primary types of loops: `for` loops and `while` loops."
   ]
  },
  {
   "cell_type": "markdown",
   "metadata": {},
   "source": [
    "## For Loops"
   ]
  }
 ],
 "metadata": {
  "kernelspec": {
   "display_name": "myenv",
   "language": "python",
   "name": "python3"
  },
  "language_info": {
   "codemirror_mode": {
    "name": "ipython",
    "version": 3
   },
   "file_extension": ".py",
   "mimetype": "text/x-python",
   "name": "python",
   "nbconvert_exporter": "python",
   "pygments_lexer": "ipython3",
   "version": "3.8.20"
  }
 },
 "nbformat": 4,
 "nbformat_minor": 2
}
