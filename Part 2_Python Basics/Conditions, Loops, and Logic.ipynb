{
 "cells": [
  {
   "cell_type": "markdown",
   "metadata": {},
   "source": [
    "# Conditional Logic"
   ]
  },
  {
   "cell_type": "markdown",
   "metadata": {},
   "source": [
    "Conditional logic is an important part of programming, enabling code to execute based on whether specific conditions are true or false. Hence conditional logic is inherently tied to the concept of Boolean values, which can be either `True` or `False`. It also allows different actions to be taken depending on various conditions. Let’s look at a simple real-life example:\n",
    "\n",
    "Mary plans to go to the beach, but her decision depends on the weather:\n",
    "- If it’s sunny, Mary will head to the beach.\n",
    "- If it’s rainy, she’ll stay home and watch a movie.\n",
    "- If it’s cloudy, she might still go to the beach but take an umbrella with her.\n",
    "\n",
    "Here, the weather serves as the condition. If the condition is sunny, the code to send Mary to the beach will run. If it’s rainy, the code for staying home and watching a movie will execute. Additional scenarios, like cloudy weather, can be handled with extra conditions.\n",
    "\n",
    "In programming, this logic can be implemented using if, else, and elif statements:\n",
    "- `if`: Checks a condition and runs code if it’s true.\n",
    "- `else`: Executes a default block of code if the if condition isn’t met.\n",
    "- `elif`: Adds more conditions to handle additional scenarios.\n",
    "\n",
    "Conditional logic helps programs make decisions __dynamically__, just like Mary deciding what to do based on the weather."
   ]
  },
  {
   "cell_type": "markdown",
   "metadata": {},
   "source": [
    "Conditional logic is used in countless other scenarios you might be familiar with:\n",
    "- _Authentication_: Granting or denying user access based on credentials.\n",
    "- _Gaming_: Determining the outcome of an action based on player inputs and game rules.\n",
    "- _Data Analysis_: Filtering datasets based on specific conditions. (You'll be familiar with this soon 😉)"
   ]
  },
  {
   "cell_type": "code",
   "execution_count": 1,
   "metadata": {},
   "outputs": [
    {
     "name": "stdout",
     "output_type": "stream",
     "text": [
      "Let's go to Laemlee!\n"
     ]
    }
   ],
   "source": [
    "# Basic example\n",
    "temp = 30\n",
    "if temp > 30:\n",
    "    print(\"Let's go golfing!\")\n",
    "elif 20 <= temp <= 30:\n",
    "    print(\"Let's go to Laemlee!\")\n",
    "else:\n",
    "    print(\"Let's go to Baldy!\")"
   ]
  },
  {
   "cell_type": "markdown",
   "metadata": {},
   "source": [
    "## Logical Operators."
   ]
  },
  {
   "cell_type": "markdown",
   "metadata": {},
   "source": [
    "Logical operators are used to combine multiple conditions into a single decision-making process. Python offers three logical operators, `and`, `or`, and `not`, that allow you to build more complex and nuanced conditions from simpler ones. These operators are particularly useful in situations where decisions rely on multiple factors. They enable you to evaluate combined conditions, validate user inputs, and filter data based on several criteria."
   ]
  },
  {
   "cell_type": "markdown",
   "metadata": {},
   "source": [
    "### `and` Operator"
   ]
  },
  {
   "cell_type": "markdown",
   "metadata": {},
   "source": [
    "All conditions must evaluate to True for the result to be True."
   ]
  },
  {
   "cell_type": "code",
   "execution_count": null,
   "metadata": {},
   "outputs": [
    {
     "name": "stdout",
     "output_type": "stream",
     "text": [
      "It's a warm day.\n"
     ]
    }
   ],
   "source": [
    "temperature = 28\n",
    "if temperature > 25 and temperature < 30:\n",
    "    print(\"It's aight!\")"
   ]
  },
  {
   "cell_type": "markdown",
   "metadata": {},
   "source": [
    "### `or` Operator"
   ]
  },
  {
   "cell_type": "markdown",
   "metadata": {},
   "source": [
    "At least one condition must evaluate to True for the result to be True."
   ]
  },
  {
   "cell_type": "code",
   "execution_count": 7,
   "metadata": {},
   "outputs": [
    {
     "name": "stdout",
     "output_type": "stream",
     "text": [
      "We don't like this, do we?\n"
     ]
    }
   ],
   "source": [
    "temperature = 15\n",
    "if temperature < 20 or temperature > 30:\n",
    "    print(\"We don't like this, do we?\")"
   ]
  },
  {
   "cell_type": "markdown",
   "metadata": {},
   "source": [
    "### `not` Operator"
   ]
  },
  {
   "cell_type": "markdown",
   "metadata": {},
   "source": [
    "Negates the condition. It returns True if the condition is False, and vice versa."
   ]
  },
  {
   "cell_type": "code",
   "execution_count": 8,
   "metadata": {},
   "outputs": [
    {
     "name": "stdout",
     "output_type": "stream",
     "text": [
      "Well, it's called sunny California for a reason!\n"
     ]
    }
   ],
   "source": [
    "is_raining = False\n",
    "if not is_raining:\n",
    "    print(\"Well, it's called sunny California for a reason!\")"
   ]
  },
  {
   "cell_type": "markdown",
   "metadata": {},
   "source": [
    "Logical operators are the backbone of conditional logic in Python, enabling you to simulate real-world decision-making processes efficiently. Whether it’s controlling program flow, validating inputs, or modeling scenarios like Mary’s beach plans, mastering these operators is essential for writing effective, logical code."
   ]
  },
  {
   "cell_type": "markdown",
   "metadata": {},
   "source": [
    "# Loops"
   ]
  },
  {
   "cell_type": "markdown",
   "metadata": {},
   "source": [
    "Loops are a core concept in programming that enable the repeated execution of a block of code. They are essential for automating repetitive tasks, performing calculations, running simulations, and processing data efficiently. By iterating over data or conditions, loops help simplify complex workflows. In Python, there are two primary types of loops: `for` loops and `while` loops."
   ]
  },
  {
   "cell_type": "markdown",
   "metadata": {},
   "source": [
    "## For Loops"
   ]
  }
 ],
 "metadata": {
  "kernelspec": {
   "display_name": "myenv",
   "language": "python",
   "name": "python3"
  },
  "language_info": {
   "codemirror_mode": {
    "name": "ipython",
    "version": 3
   },
   "file_extension": ".py",
   "mimetype": "text/x-python",
   "name": "python",
   "nbconvert_exporter": "python",
   "pygments_lexer": "ipython3",
   "version": "3.8.20"
  }
 },
 "nbformat": 4,
 "nbformat_minor": 2
}
