{
 "cells": [
  {
   "cell_type": "markdown",
   "metadata": {},
   "source": [
    "## Introduction"
   ]
  },
  {
   "cell_type": "markdown",
   "metadata": {},
   "source": [
    "In this final notebook of the section, we’ll dive into one of the cornerstones of programming: _basic data structures_. While this won’t be an exhaustive exploration of all data structures or their intricacies, it’s a solid introduction to the ones you’ll frequently encounter in everyday programming tasks."
   ]
  },
  {
   "cell_type": "markdown",
   "metadata": {},
   "source": [
    "Data structures are essential tools in Python for organizing and managing data efficiently. This section will explore four fundamental data structures (lists, dictionaries, sets, and tuples) explaining when and why to use each, supported by Physics-inspired examples."
   ]
  },
  {
   "cell_type": "markdown",
   "metadata": {},
   "source": [
    "# Lists"
   ]
  },
  {
   "cell_type": "markdown",
   "metadata": {},
   "source": [
    "A list is an ordered collection of items that can be modified after creation, making it a mutable data structure. Lists are defined using square brackets `[ ]`, and their elements can be of different data types. They support indexing, starting from 0, and slicing. Additionally, lists allow duplicate items, providing flexibility in how data is stored and managed."
   ]
  },
  {
   "cell_type": "markdown",
   "metadata": {},
   "source": [
    "💡 Mutability is a key feature of lists, enabling you to change, add, or remove elements after a list is created. This flexibility makes lists incredibly versatile and widely used in Python programming, as they can easily adapt to dynamic data and evolving program requirements.\n",
    "\n",
    "However, this same mutability can also introduce potential issues, such as unintended modifications when lists are shared across different parts of a program. It’s important to handle lists carefully, especially when passing them as arguments or assigning them to new variables."
   ]
  },
  {
   "cell_type": "markdown",
   "metadata": {},
   "source": [
    "So, when should one consider using a list?\n",
    "\n",
    "- **When you need an ordered collection of items**: Lists maintain the order in which elements are added, allowing you to retrieve items based on their position in the list.\n",
    "\n",
    "- **When you need to modify the collection**: Lists are mutable, meaning you can change, add, or remove elements after the list is created.\n",
    "\n",
    "- **When you need to store duplicate items**: Lists can contain duplicate elements, which can be useful in various scenarios.\n",
    "\n",
    "- **When you need to access elements by index or iterate over the collection**: Lists support indexing and slicing, making it easy to retrieve specific items or loop through all elements in the list."
   ]
  },
  {
   "cell_type": "markdown",
   "metadata": {},
   "source": [
    "There are several key operations you can perform on lists, making them one of Python’s most versatile data structures. These include:\n",
    "\n",
    "- __Adding elements__: Use the `append()` method to add elements to the end of a list, the `insert()` method to add elements at a specific position, or the `extend()` method to add multiple elements from another list or iterable.\n",
    "\n",
    "- __Removing elements__: Use the `remove()` method to delete a specific element, the `pop()` method to remove an element at a specific position (and return it), or the `clear()` method to empty the list entirely.\n",
    "\n",
    "- __Modifying elements__: Access elements by their index and assign new values to update them.\n",
    "\n",
    "- __Iterating over elements__: Use for loops or list comprehensions to process each element in a list.\n",
    "\n",
    "- __Slicing__: Retrieve a subset of elements using slicing notation list `[start:end:step]`.\n",
    "\n",
    "- __Concatenating lists__: Combine two lists into one using the `+` operator or the `extend()` method.\n",
    "\n",
    "- __Sorting__: Use the `sort()` method to sort a list in place or the `sorted()` function to create a new sorted list without altering the original.\n",
    "\n",
    "- __Reversing__: Use the `reverse()` method to reverse the order of elements in a list.\n",
    "\n",
    "- __Copying__: Create a shallow copy using the `copy()` method, the `list()` constructor, or slicing (`list[:]`). Be cautious when copying lists, as changes to nested elements in a copied list may still affect the original due to shared references.\n",
    "\n",
    "Let’s simulate the motion of a particle in one dimension. We’ll use a list to store the particle’s position at different time steps, updating the list as the particle moves, while applying operations like adding, modifying, and iterating over elements to analyze its motion."
   ]
  },
  {
   "cell_type": "markdown",
   "metadata": {},
   "source": [
    "### Example: Particle Motion\n",
    "\n",
    "Suppose we have a particle moving along a straight line, and we want to track its position at different time steps. We can use a list to store the particle’s position at each time step, updating the list as the particle moves.\n",
    "\n",
    "Let’s define a function `simulate_motion` that takes the initial position of the particle, its velocity, and the total time to simulate. The function will return a list containing the particle’s position at each time step."
   ]
  },
  {
   "cell_type": "code",
   "execution_count": 3,
   "metadata": {},
   "outputs": [
    {
     "name": "stdout",
     "output_type": "stream",
     "text": [
      "[0, 5, 10, 15, 20, 25, 30, 35, 40, 45, 50]\n"
     ]
    }
   ],
   "source": [
    "def simulate_motion(initial_position, velocity, total_time):\n",
    "    # Initialize an empty list to store the particle's position\n",
    "    positions = []\n",
    "    \n",
    "    # Calculate the position of the particle at each time step\n",
    "    for time in range(total_time + 1):\n",
    "        position = initial_position + (velocity * time)\n",
    "        positions.append(position)\n",
    "\n",
    "    return positions\n",
    "\n",
    "# Define the initial position, velocity, and total time\n",
    "initial_position = 0\n",
    "velocity = 5\n",
    "total_time = 10\n",
    "\n",
    "# Simulate the motion of the particle\n",
    "particle_positions = simulate_motion(initial_position, velocity, total_time)\n",
    "\n",
    "print(particle_positions)"
   ]
  },
  {
   "cell_type": "markdown",
   "metadata": {},
   "source": [
    "In this example, we define a function `simulate_motion` that takes the initial position, velocity, and total time as input. The function initializes an empty list `positions` to store the particle’s position at each time step. It then calculates the position of the particle at each time step using the formula `position = initial_position + velocity * time` and appends the result to the `positions` list. Finally, the function returns the list of particle positions.\n",
    "\n",
    "We simulate the motion of a particle with an initial position of 0, a velocity of 5 units per second, and a total simulation time of 10 seconds. The `simulate_motion` function returns a list of the particle’s position at each time step, which we store in the variable `particle_positions`. We then print the list to see the particle’s position at each time step.\n",
    "\n",
    "This example demonstrates how lists can be used to store and manage data in a Physics simulation, allowing us to track the position of a particle at different time steps. Lists provide a flexible and efficient way to organize and manipulate data, making them a valuable tool in various programming scenarios."
   ]
  },
  {
   "cell_type": "markdown",
   "metadata": {},
   "source": [
    "# Dictionaries"
   ]
  }
 ],
 "metadata": {
  "kernelspec": {
   "display_name": "myenv",
   "language": "python",
   "name": "python3"
  },
  "language_info": {
   "codemirror_mode": {
    "name": "ipython",
    "version": 3
   },
   "file_extension": ".py",
   "mimetype": "text/x-python",
   "name": "python",
   "nbconvert_exporter": "python",
   "pygments_lexer": "ipython3",
   "version": "3.8.20"
  }
 },
 "nbformat": 4,
 "nbformat_minor": 2
}
