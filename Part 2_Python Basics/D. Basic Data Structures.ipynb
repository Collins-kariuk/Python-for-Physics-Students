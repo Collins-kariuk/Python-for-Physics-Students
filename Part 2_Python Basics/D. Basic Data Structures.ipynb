{
 "cells": [
  {
   "cell_type": "markdown",
   "metadata": {},
   "source": [
    "## Introduction"
   ]
  },
  {
   "cell_type": "markdown",
   "metadata": {},
   "source": [
    "In this final notebook of the section, we’ll dive into one of the cornerstones of programming: _basic data structures_. While this won’t be an exhaustive exploration of all data structures or their intricacies, it’s a solid introduction to the ones you’ll frequently encounter in everyday programming tasks."
   ]
  },
  {
   "cell_type": "markdown",
   "metadata": {},
   "source": [
    "Data structures are essential tools in Python for organizing and managing data efficiently. This section will explore four fundamental data structures (lists, dictionaries, sets, and tuples) explaining when and why to use each, supported by Physics-inspired examples."
   ]
  },
  {
   "cell_type": "markdown",
   "metadata": {},
   "source": [
    "# Lists"
   ]
  },
  {
   "cell_type": "markdown",
   "metadata": {},
   "source": [
    "A list is an ordered collection of items that can be modified after creation, making it a mutable data structure. Lists are defined using square brackets `[ ]`, and their elements can be of different data types. They support indexing, starting from 0, and slicing. Additionally, lists allow duplicate items, providing flexibility in how data is stored and managed."
   ]
  },
  {
   "cell_type": "markdown",
   "metadata": {},
   "source": [
    "💡 Mutability is a key feature of lists, enabling you to change, add, or remove elements after a list is created. This flexibility makes lists incredibly versatile and widely used in Python programming, as they can easily adapt to dynamic data and evolving program requirements.\n",
    "\n",
    "However, this same mutability can also introduce potential issues, such as unintended modifications when lists are shared across different parts of a program. It’s important to handle lists carefully, especially when passing them as arguments or assigning them to new variables."
   ]
  },
  {
   "cell_type": "markdown",
   "metadata": {},
   "source": [
    "So, when should one consider using a list?\n",
    "\n",
    "- **When you need an ordered collection of items**: Lists maintain the order in which elements are added, allowing you to retrieve items based on their position in the list.\n",
    "\n",
    "- **When you need to modify the collection**: Lists are mutable, meaning you can change, add, or remove elements after the list is created.\n",
    "\n",
    "- **When you need to store duplicate items**: Lists can contain duplicate elements, which can be useful in various scenarios.\n",
    "\n",
    "- **When you need to access elements by index or iterate over the collection**: Lists support indexing and slicing, making it easy to retrieve specific items or loop through all elements in the list."
   ]
  },
  {
   "cell_type": "markdown",
   "metadata": {},
   "source": [
    "There are several key operations you can perform on lists, making them one of Python’s most versatile data structures. These include:\n",
    "\n",
    "- __Adding elements__: Use the `append()` method to add elements to the end of a list, the `insert()` method to add elements at a specific position, or the `extend()` method to add multiple elements from another list or iterable.\n",
    "\n",
    "- __Removing elements__: Use the `remove()` method to delete a specific element, the `pop()` method to remove an element at a specific position (and return it), or the `clear()` method to empty the list entirely.\n",
    "\n",
    "- __Modifying elements__: Access elements by their index and assign new values to update them.\n",
    "\n",
    "- __Iterating over elements__: Use for loops or list comprehensions to process each element in a list.\n",
    "\n",
    "- __Slicing__: Retrieve a subset of elements using slicing notation list `[start:end:step]`.\n",
    "\n",
    "- __Concatenating lists__: Combine two lists into one using the `+` operator or the `extend()` method.\n",
    "\n",
    "- __Sorting__: Use the `sort()` method to sort a list in place or the `sorted()` function to create a new sorted list without altering the original.\n",
    "\n",
    "- __Reversing__: Use the `reverse()` method to reverse the order of elements in a list.\n",
    "\n",
    "- __Copying__: Create a shallow copy using the `copy()` method, the `list()` constructor, or slicing (`list[:]`). Be cautious when copying lists, as changes to nested elements in a copied list may still affect the original due to shared references.\n",
    "\n",
    "Let’s simulate the motion of a particle in one dimension. We’ll use a list to store the particle’s position at different time steps, updating the list as the particle moves, while applying operations like adding, modifying, and iterating over elements to analyze its motion."
   ]
  },
  {
   "cell_type": "markdown",
   "metadata": {},
   "source": [
    "### Example: Particle Motion\n",
    "\n",
    "Suppose we have a particle moving along a straight line, and we want to track its position at different time steps. We can use a list to store the particle’s position at each time step, updating the list as the particle moves.\n",
    "\n",
    "Let’s define a function `simulate_motion` that takes the initial position of the particle, its velocity, and the total time to simulate. The function will return a list containing the particle’s position at each time step."
   ]
  },
  {
   "cell_type": "code",
   "execution_count": 3,
   "metadata": {},
   "outputs": [
    {
     "name": "stdout",
     "output_type": "stream",
     "text": [
      "[0, 5, 10, 15, 20, 25, 30, 35, 40, 45, 50]\n"
     ]
    }
   ],
   "source": [
    "def simulate_motion(initial_position, velocity, total_time):\n",
    "    # Initialize an empty list to store the particle's position\n",
    "    positions = []\n",
    "    \n",
    "    # Calculate the position of the particle at each time step\n",
    "    for time in range(total_time + 1):\n",
    "        position = initial_position + (velocity * time)\n",
    "        positions.append(position)\n",
    "\n",
    "    return positions\n",
    "\n",
    "# Define the initial position, velocity, and total time\n",
    "initial_position = 0\n",
    "velocity = 5\n",
    "total_time = 10\n",
    "\n",
    "# Simulate the motion of the particle\n",
    "particle_positions = simulate_motion(initial_position, velocity, total_time)\n",
    "\n",
    "print(particle_positions)"
   ]
  },
  {
   "cell_type": "markdown",
   "metadata": {},
   "source": [
    "In this example, we define a function `simulate_motion` that takes the initial position, velocity, and total time as input. The function initializes an empty list `positions` to store the particle’s position at each time step. It then calculates the position of the particle at each time step using the formula `position = initial_position + velocity * time` and appends the result to the `positions` list. Finally, the function returns the list of particle positions.\n",
    "\n",
    "We simulate the motion of a particle with an initial position of 0, a velocity of 5 units per second, and a total simulation time of 10 seconds. The `simulate_motion` function returns a list of the particle’s position at each time step, which we store in the variable `particle_positions`. We then print the list to see the particle’s position at each time step.\n",
    "\n",
    "This example demonstrates how lists can be used to store and manage data in a Physics simulation, allowing us to track the position of a particle at different time steps. Lists provide a flexible and efficient way to organize and manipulate data, making them a valuable tool in various programming scenarios."
   ]
  },
  {
   "cell_type": "markdown",
   "metadata": {},
   "source": [
    "# Dictionaries"
   ]
  },
  {
   "cell_type": "markdown",
   "metadata": {},
   "source": [
    "Imagine a dictionary, the physical object, not the Python data structure. It’s a collection of words, where each word is paired with its definition. Similarly, in Python, a dictionary is a data structure that stores data in key-value pairs, allowing you to associate unique keys with specific values. Dictionaries are defined using curly braces { }, with each key-value pair separated by a colon :.\n",
    "\n",
    "A Python dictionary is an unordered collection of key-value pairs, where keys are unique, and values are accessed through their associated keys."
   ]
  },
  {
   "cell_type": "markdown",
   "metadata": {},
   "source": [
    "💡 Dictionaries are highly efficient for retrieving and updating values based on specific keys. They provide a fast way to access data without needing to know the index or position of the value in the collection. This makes dictionaries ideal for scenarios where you need to look up or update values based on unique identifiers."
   ]
  },
  {
   "cell_type": "markdown",
   "metadata": {},
   "source": [
    "_When should you consider using a dictionary?_\n",
    "\n",
    "- **When you need to associate unique keys with specific values**: Dictionaries allow you to store data in key-value pairs, making it easy to access values based on their associated keys.\n",
    "\n",
    "- **When you need fast lookups and updates**: Dictionaries provide efficient lookup and update operations, allowing you to access or modify values quickly without needing to know their position in the collection.\n",
    "\n",
    "- **When you need to store data in an unordered manner**: Dictionaries do not maintain the order of key-value pairs, which can be beneficial in scenarios where the order of elements is not important.\n",
    "\n",
    "- **When you need to group related data together**: Dictionaries enable you to organize data into meaningful groups by associating keys with values."
   ]
  },
  {
   "cell_type": "markdown",
   "metadata": {},
   "source": [
    "Dictionaries support a wide range of operations, making them a versatile data structure in Python. Some key operations include:\n",
    "\n",
    "- __Accessing values__: Retrieve values from a dictionary using their associated keys. For instance, `dict[key]` returns the value associated with `key`.\n",
    "\n",
    "- __Updating values__: Assign new values to keys to update the dictionary. For instance, `dict[key] = value` updates the value associated with `key`.\n",
    "\n",
    "- __Adding new key-value pairs__: Create new entries in the dictionary by assigning values to new keys. For instance, `dict[new_key] = value` adds a new key-value pair to the dictionary.\n",
    "\n",
    "- __Removing key-value pairs__: Use the `del` keyword or the `pop()` method to delete specific key-value pairs. For instance, `del dict[key]` removes the key-value pair with the specified key.\n",
    "\n",
    "- __Iterating over key-value pairs__: Use for loops to process each key-value pair in the dictionary. For instance, `for key, value in dict.items():` iterates over all key-value pairs. This is particularly useful for processing all elements in the dictionary. Example: \n",
    "\n",
    "```python\n",
    "for key, value in dict.items():\n",
    "    print(f\"The value of {key} is {value}\")\n",
    "```\n",
    "\n",
    "- __Checking for key existence__: Use the `in` keyword to check if a key exists in the dictionary. For instance, `if key in dict:` checks if `key` is present in the dictionary.\n",
    "\n",
    "- __Getting keys or values__: Use the `keys()` and `values()` methods to retrieve all keys or values in the dictionary. For instance, `dict.keys()` returns a list of all keys in the dictionary. Similarly, `dict.values()` returns a list of all values. If you need both keys and values, you can use the `items()` method to get a list of key-value pairs. So, in practice, if say, you want to get the keys of a dictionary and store them in a list, you can do so by using the `list()` constructor - `keys = list(dict.keys())`\n",
    "\n",
    "- __Copying__: Create a shallow copy of a dictionary using the `copy()` method or the `dict()` constructor. For instance, `new_dict = dict.copy()` creates a copy of the dictionary `dict`. As with lists, _be cautious_ when copying dictionaries, as changes to nested elements in a copied dictionary may still affect the original due to shared references."
   ]
  },
  {
   "cell_type": "markdown",
   "metadata": {},
   "source": [
    "Let’s consider a Physics example where we need to store information about different particles, such as their mass, charge, and spin. We can use a dictionary to associate each particle with its corresponding properties, allowing us to access and update the data efficiently."
   ]
  },
  {
   "cell_type": "code",
   "execution_count": 2,
   "metadata": {},
   "outputs": [
    {
     "name": "stdout",
     "output_type": "stream",
     "text": [
      "9.11e-31\n",
      "-1.9e-19\n",
      "4.555e-19\n"
     ]
    }
   ],
   "source": [
    "# Let’s consider a Physics example where we need to store information about different particles, such as their mass, charge, and spin. We can use a dictionary to associate each particle with its corresponding properties, allowing us to access and update the data efficiently.\n",
    "\n",
    "# Define a dictionary to store information about particles\n",
    "\n",
    "particles = {\n",
    "    'electron': {\n",
    "        'mass': 9.11e-31,\n",
    "        'charge': -1.6e-19,\n",
    "        'spin': 0.5\n",
    "    },\n",
    "    'proton': {\n",
    "        'mass': 1.67e-27,\n",
    "        'charge': 1.6e-19,\n",
    "        'spin': 0.5\n",
    "    },\n",
    "    'neutron': {\n",
    "        'mass': 1.67e-27,\n",
    "        'charge': 0,\n",
    "        'spin': 0.5\n",
    "    }\n",
    "}\n",
    "\n",
    "# Access the properties of a specific particle\n",
    "print(particles['electron']['mass'])  # Output: 9.11e-31\n",
    "\n",
    "# Update the charge of a particle\n",
    "particles['electron']['charge'] = -1.9e-19\n",
    "\n",
    "print(particles['electron']['charge'])  # Output: -1.9e-19\n",
    "\n",
    "def calculate_energy(particle, velocity):\n",
    "    \"\"\"\n",
    "    Calculate the kinetic energy of a particle.\n",
    "    \n",
    "    Parameters:\n",
    "    particle (str): The name of the particle.\n",
    "    velocity (float): The velocity of the particle in m/s.\n",
    "    \n",
    "    Returns:\n",
    "    energy (float): The kinetic energy of the particle in Joules.\n",
    "    \"\"\"\n",
    "\n",
    "    mass = particles[particle]['mass']\n",
    "    energy = 0.5 * mass * velocity**2\n",
    "    return energy\n",
    "\n",
    "# Calculate the total energy of an electron with a velocity of 1e6 m/s\n",
    "electron_energy = calculate_energy('electron', 1e6)\n",
    "\n",
    "print(electron_energy)  # Output: 4.55e-19"
   ]
  },
  {
   "cell_type": "markdown",
   "metadata": {},
   "source": [
    "# Sets"
   ]
  },
  {
   "cell_type": "markdown",
   "metadata": {},
   "source": [
    "A set is an unordered collection of unique elements, meaning that each element appears only once in the set. Sets are defined using curly braces { }, with elements separated by commas. Sets are mutable, allowing you to add or remove elements after creation.\n",
    "\n",
    "💡 Sets are highly efficient for checking membership and eliminating duplicate elements. They provide a fast way to determine if an element is present in the set and can be used to perform set operations like union, intersection, difference, and symmetric difference."
   ]
  },
  {
   "cell_type": "markdown",
   "metadata": {},
   "source": [
    "_When should you consider using a set?_\n",
    "\n",
    "- **When you need to store a collection of unique elements**: Sets ensure that each element appears only once, making them ideal for storing unique values.\n",
    "\n",
    "- **When you need to perform set operations**: Sets support various set operations like union, intersection, difference, and symmetric difference, allowing you to combine, compare, or modify sets efficiently.\n",
    "\n",
    "- **When you need to check for membership**: Sets provide fast membership testing, allowing you to determine if an element is present in the set.\n",
    "\n",
    "- **When you need to eliminate duplicate elements**: Sets automatically remove duplicate elements, simplifying the process of working with unique values."
   ]
  },
  {
   "cell_type": "markdown",
   "metadata": {},
   "source": [
    "Sets support a variety of operations, making them a powerful data structure in Python. Some key operations include:\n",
    "\n",
    "- __Adding elements__: Use the `add()` method to insert a single element into the set or the `update()` method to add multiple elements from another set or iterable. For instance, `set.add(element)` adds `element` to the set.\n",
    "\n",
    "- __Removing elements__: Use the `remove()` or `discard()` method to delete a specific element from the set. The `remove()` method raises a `KeyError` if the element is not present, while `discard()` does not raise an error. For instance, `set.remove(element)` removes `element` from the set.\n",
    "\n",
    "- __Checking for membership__: Use the `in` keyword to check if an element is present in the set. For instance, `if element in set:` checks if `element` is in the set. This is particularly useful for testing membership before performing set operations. For example, you can check if an element is present in both sets before finding their intersection. For instance, `if element in set1 and element in set2:`.\n",
    "\n",
    "- __Set operations__: Perform set operations like union (`|`), intersection (`&`), difference (`-`), and symmetric difference (`^`) to combine, compare, or modify sets. For instance, `set1 | set2` returns the union of `set1` and `set2`, containing all elements present in either set. For more on this, check out this helpful YouTube video on [Intersection of Sets, Union of Sets and Venn Diagrams](https://www.youtube.com/watch?v=xZELQc11ACY).\n",
    "\n",
    "- __Iterating over elements__: Use for loops to process each element in the set. For instance, `for element in set:` iterates over all elements in the set.\n",
    "\n",
    "- __Copying__: Create a shallow copy of a set using the `copy()` method or the `set()` constructor. For instance, `new_set = set.copy()` creates a copy of the set. As with lists and dictionaries, _be cautious_ when copying sets, as changes to nested elements in a copied set may still affect the original due to shared references.\n",
    "\n",
    "An example: "
   ]
  },
  {
   "cell_type": "code",
   "execution_count": 4,
   "metadata": {},
   "outputs": [
    {
     "name": "stdout",
     "output_type": "stream",
     "text": [
      "Unique measurements: {1.7, 1.2, 1.9, 1.5}\n",
      "Updated measurements: {1.7, 1.2, 1.9, 2.0, 1.5}\n"
     ]
    }
   ],
   "source": [
    "# Suppose we want to find unique measurements recorded during an experiment:\n",
    "\n",
    "# Measurements in meters\n",
    "measurements = [1.2, 1.5, 1.2, 1.7, 1.5, 1.9]\n",
    "\n",
    "# Convert to a set to remove duplicates\n",
    "unique_measurements = set(measurements)\n",
    "\n",
    "print(f\"Unique measurements: {unique_measurements}\")\n",
    "\n",
    "# Adding a new measurement\n",
    "unique_measurements.add(2.0)\n",
    "\n",
    "print(f\"Updated measurements: {unique_measurements}\")"
   ]
  },
  {
   "cell_type": "markdown",
   "metadata": {},
   "source": [
    "# Tuples"
   ]
  },
  {
   "cell_type": "markdown",
   "metadata": {},
   "source": [
    "A tuple is an ordered collection of elements, similar to a list, but with one key difference: tuples are immutable. Once a tuple is created, its elements cannot be changed, added, or removed. Tuples are defined using parentheses ( ) and elements separated by commas.\n",
    "\n",
    "💡 Immutability is a key feature of tuples, making them useful for representing fixed collections of elements that should not be modified. While tuples lack the flexibility of lists, their immutability provides certain advantages, such as ensuring data integrity and preventing accidental modifications."
   ]
  },
  {
   "cell_type": "markdown",
   "metadata": {},
   "source": [
    "_When should you consider using a tuple?_\n",
    "\n",
    "- **When you need an ordered collection of elements that should not be modified**: Tuples are immutable, making them suitable for storing fixed data that should not change. In Physics, for example, you might use a tuple to represent the coordinates of a point in space, which should remain constant.\n",
    "\n",
    "- **When you want to ensure data integrity**: The immutability of tuples guarantees that the data remains unchanged, reducing the risk of accidental modifications. In Physics, this could look like storing physical constants or properties that should not be altered.\n",
    "\n",
    "- **When you want to return multiple values from a function**: Tuples can be used to return multiple values from a function, providing a convenient way to group and return data. \n",
    "\n",
    "💡 Since keys of dictionaries must be immutable, tuples can be used as keys in dictionaries, while lists cannot."
   ]
  },
  {
   "cell_type": "markdown",
   "metadata": {},
   "source": [
    "Tuples support a variety of operations, making them a versatile data structure in Python. Some key operations include:\n",
    "\n",
    "- __Accessing elements__: Retrieve elements from a tuple using indexing. For instance, `tuple[index]` returns the element at the specified index. You can also use negative indexing to access elements from the end of the tuple. For instance, `tuple[-1]` returns the last element of the tuple.\n",
    "\n",
    "- __Slicing__: Retrieve a subset of elements from a tuple using slicing notation `tuple[start:end:step]`. This allows you to extract a range of elements from the tuple.  For instance, `tuple[1:4]` returns a new tuple containing elements from index 1 to 3. \n",
    "\n",
    "- __Iterating over elements__: Use for loops to process each element in the tuple. For instance, `for element in tuple:` iterates over all elements in the tuple.\n",
    "\n",
    "- __Unpacking tuples__: Assign elements of a tuple to multiple variables in a single line. For instance, `x, y, z = tuple` unpacks a tuple with three elements into three variables `x`, `y`, and `z`. This is so cool! Think of it like this, if you have a tuple `point = (3, 4, 5)`, you can unpack it into three variables `x, y, z = point` and then you can access the values of `x`, `y`, and `z` as `3`, `4`, and `5` respectively. Is your mind blown yet? 😄\n",
    "\n",
    "- __Checking for element existence__: Use the `in` keyword to check if an element is present in the tuple. For instance, `if element in tuple:` checks if `element` is in the tuple.\n",
    "\n",
    "- __Concatenating tuples__: Combine two or more tuples into a single tuple using the `+` operator. For instance, `new_tuple = tuple1 + tuple2` concatenates `tuple1` and `tuple2` into `new_tuple`.\n",
    "\n",
    "- __Repeating tuples__: Create a new tuple by repeating the elements of an existing tuple using the `*` operator. For instance, `new_tuple = tuple * n` repeats the elements of `tuple` `n` times to create `new_tuple`.\n",
    "\n",
    "- __Copying__: Create a shallow copy of a tuple using the `tuple()` constructor. For instance, `new_tuple = tuple(tuple)` creates a copy of the tuple. As with lists, dictionaries, and sets, _be cautious_ when copying tuples, as changes to nested elements in a copied tuple may still affect the original due to shared references."
   ]
  },
  {
   "cell_type": "markdown",
   "metadata": {},
   "source": [
    "## Conclusion"
   ]
  },
  {
   "cell_type": "markdown",
   "metadata": {},
   "source": [
    "We explored four fundamental data structures in Python: lists, dictionaries, sets, and tuples. Each data structure has unique characteristics and use cases, making them valuable tools for organizing and managing data efficiently. By understanding the strengths and limitations of each data structure, you can choose the most appropriate one for your specific programming needs. You are encouraged to experiment with these data structures in your own projects to gain a deeper understanding of how they work and when to use them effectively."
   ]
  }
 ],
 "metadata": {
  "kernelspec": {
   "display_name": "myenv",
   "language": "python",
   "name": "python3"
  },
  "language_info": {
   "codemirror_mode": {
    "name": "ipython",
    "version": 3
   },
   "file_extension": ".py",
   "mimetype": "text/x-python",
   "name": "python",
   "nbconvert_exporter": "python",
   "pygments_lexer": "ipython3",
   "version": "3.8.20"
  }
 },
 "nbformat": 4,
 "nbformat_minor": 2
}
