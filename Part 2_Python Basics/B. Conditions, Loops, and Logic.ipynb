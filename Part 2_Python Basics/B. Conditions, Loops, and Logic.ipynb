{
 "cells": [
  {
   "cell_type": "markdown",
   "metadata": {},
   "source": [
    "# Conditional Logic"
   ]
  },
  {
   "cell_type": "markdown",
   "metadata": {},
   "source": [
    "Conditional logic is an important part of programming, enabling code to execute based on whether specific conditions are true or false. Hence conditional logic is inherently tied to the concept of Boolean values, which can be either `True` or `False`. It also allows different actions to be taken depending on various conditions. Let’s look at a simple real-life example:\n",
    "\n",
    "Mary plans to go to the beach, but her decision depends on the weather:\n",
    "- If it’s sunny, Mary will head to the beach.\n",
    "- If it’s rainy, she’ll stay home and watch a movie.\n",
    "- If it’s cloudy, she might still go to the beach but take an umbrella with her.\n",
    "\n",
    "Here, the weather serves as the condition. If the condition is sunny, the code to send Mary to the beach will run. If it’s rainy, the code for staying home and watching a movie will execute. Additional scenarios, like cloudy weather, can be handled with extra conditions.\n",
    "\n",
    "In programming, this logic can be implemented using if, else, and elif statements:\n",
    "- `if`: Checks a condition and runs code if it’s true.\n",
    "- `else`: Executes a default block of code if the if condition isn’t met.\n",
    "- `elif`: Adds more conditions to handle additional scenarios.\n",
    "\n",
    "Conditional logic helps programs make decisions __dynamically__, just like Mary deciding what to do based on the weather."
   ]
  },
  {
   "cell_type": "markdown",
   "metadata": {},
   "source": [
    "Conditional logic is used in countless other scenarios you might be familiar with:\n",
    "- _Authentication_: Granting or denying user access based on credentials.\n",
    "- _Gaming_: Determining the outcome of an action based on player inputs and game rules.\n",
    "- _Data Analysis_: Filtering datasets based on specific conditions. (You'll be familiar with this soon 😉)"
   ]
  },
  {
   "cell_type": "code",
   "execution_count": 9,
   "metadata": {},
   "outputs": [
    {
     "name": "stdout",
     "output_type": "stream",
     "text": [
      "Let's go to Laemlee!\n"
     ]
    }
   ],
   "source": [
    "# Basic example\n",
    "temp = 30\n",
    "if temp > 30:\n",
    "    print(\"Let's go golfing!\")\n",
    "elif 20 <= temp <= 30:\n",
    "    print(\"Let's go to Laemlee!\")\n",
    "else:\n",
    "    print(\"Let's go to Baldy!\")"
   ]
  },
  {
   "cell_type": "markdown",
   "metadata": {},
   "source": [
    "## Logical Operators."
   ]
  },
  {
   "cell_type": "markdown",
   "metadata": {},
   "source": [
    "Logical operators are used to combine multiple conditions into a single decision-making process. Python offers three logical operators, `and`, `or`, and `not`, that allow you to build more complex and nuanced conditions from simpler ones. These operators are particularly useful in situations where decisions rely on multiple factors. They enable you to evaluate combined conditions, validate user inputs, and filter data based on several criteria."
   ]
  },
  {
   "cell_type": "markdown",
   "metadata": {},
   "source": [
    "### `and` Operator"
   ]
  },
  {
   "cell_type": "markdown",
   "metadata": {},
   "source": [
    "All conditions must evaluate to True for the result to be True."
   ]
  },
  {
   "cell_type": "code",
   "execution_count": null,
   "metadata": {},
   "outputs": [
    {
     "name": "stdout",
     "output_type": "stream",
     "text": [
      "It's aight!\n"
     ]
    }
   ],
   "source": [
    "temperature = 28\n",
    "if temperature > 25 and temperature < 30:\n",
    "    print(\"It's aight!\")"
   ]
  },
  {
   "cell_type": "markdown",
   "metadata": {},
   "source": [
    "### `or` Operator"
   ]
  },
  {
   "cell_type": "markdown",
   "metadata": {},
   "source": [
    "At least one condition must evaluate to True for the result to be True."
   ]
  },
  {
   "cell_type": "code",
   "execution_count": 7,
   "metadata": {},
   "outputs": [
    {
     "name": "stdout",
     "output_type": "stream",
     "text": [
      "We don't like this, do we?\n"
     ]
    }
   ],
   "source": [
    "temperature = 15\n",
    "if temperature < 20 or temperature > 30:\n",
    "    print(\"We don't like this, do we?\")"
   ]
  },
  {
   "cell_type": "markdown",
   "metadata": {},
   "source": [
    "### `not` Operator"
   ]
  },
  {
   "cell_type": "markdown",
   "metadata": {},
   "source": [
    "Negates the condition. It returns True if the condition is False, and vice versa."
   ]
  },
  {
   "cell_type": "code",
   "execution_count": 8,
   "metadata": {},
   "outputs": [
    {
     "name": "stdout",
     "output_type": "stream",
     "text": [
      "Well, it's called sunny California for a reason!\n"
     ]
    }
   ],
   "source": [
    "is_raining = False\n",
    "if not is_raining:\n",
    "    print(\"Well, it's called sunny California for a reason!\")"
   ]
  },
  {
   "cell_type": "markdown",
   "metadata": {},
   "source": [
    "Logical operators are the backbone of conditional logic in Python, enabling you to simulate real-world decision-making processes efficiently. Whether it’s controlling program flow, validating inputs, or modeling scenarios like Mary’s beach plans, mastering these operators is essential for writing effective, logical code."
   ]
  },
  {
   "cell_type": "markdown",
   "metadata": {},
   "source": [
    "# Loops"
   ]
  },
  {
   "cell_type": "markdown",
   "metadata": {},
   "source": [
    "Loops are a core concept in programming that enable the repeated execution of a block of code. They are essential for automating repetitive tasks, performing calculations, running simulations, and processing data efficiently. By iterating over data or conditions, loops help simplify complex workflows. In Python, there are two primary types of loops: `for` loops and `while` loops."
   ]
  },
  {
   "cell_type": "markdown",
   "metadata": {},
   "source": [
    "## `for` Loops"
   ]
  },
  {
   "cell_type": "markdown",
   "metadata": {},
   "source": [
    "For loops are used to iterate over a sequence of elements, such as a list or range. They enable you to perform a set of actions for each item in the sequence. For loops are particularly useful when you know the number of iterations in advance. Below is a simple example of a for loop that prints the numbers from 0 to 4:"
   ]
  },
  {
   "cell_type": "code",
   "execution_count": 11,
   "metadata": {},
   "outputs": [
    {
     "name": "stdout",
     "output_type": "stream",
     "text": [
      "The number is: 0\n",
      "The number is: 1\n",
      "The number is: 2\n",
      "The number is: 3\n",
      "The number is: 4\n"
     ]
    }
   ],
   "source": [
    "# Using for loops (simple example)\n",
    "for number in range(5):\n",
    "    print(\"The number is: \" + str(number))"
   ]
  },
  {
   "cell_type": "markdown",
   "metadata": {},
   "source": [
    "💡 `range` is a built-in function that generates a sequence of numbers, typically used in loops. \n",
    "\n",
    "```python\n",
    "range(start, stop, step)\n",
    "```\n",
    "\n",
    "- start: The first number in the sequence (default is 0).\n",
    "- stop: The number at which the sequence stops (exclusive).\n",
    "- step: The interval between numbers (default is 1)."
   ]
  },
  {
   "cell_type": "code",
   "execution_count": null,
   "metadata": {},
   "outputs": [
    {
     "name": "stdout",
     "output_type": "stream",
     "text": [
      "The sum of the first 10 natural numbers is 55\n"
     ]
    }
   ],
   "source": [
    "# Using for loops (more complex example)\n",
    "n = 10\n",
    "sum_of_n = 0\n",
    "\n",
    "for i in range(1, n + 1):\n",
    "    sum_of_n = sum_of_n + i # sum_of_n += i, same thing\n",
    "\n",
    "print(f\"The sum of the first {n} natural numbers is {sum_of_n}\") "
   ]
  },
  {
   "cell_type": "markdown",
   "metadata": {},
   "source": [
    "💡 The last line of the snippet is an f-string, a simple way to format strings in Python. It lets you include variables or expressions directly in the string, making it easy to display their values."
   ]
  },
  {
   "cell_type": "markdown",
   "metadata": {},
   "source": [
    "## `while` Loops"
   ]
  },
  {
   "cell_type": "markdown",
   "metadata": {},
   "source": [
    "While loops are used to execute a block of code repeatedly as long as a condition is True. They are ideal when the number of iterations isn’t known in advance. While loops are particularly useful for tasks like user input validation, simulations, and real-time data processing."
   ]
  },
  {
   "cell_type": "code",
   "execution_count": 14,
   "metadata": {},
   "outputs": [
    {
     "name": "stdout",
     "output_type": "stream",
     "text": [
      "Count is 0\n",
      "Count is 1\n",
      "Count is 2\n",
      "Count is 3\n",
      "Count is 4\n"
     ]
    }
   ],
   "source": [
    "count = 0\n",
    "while count < 5:\n",
    "    print(f\"Count is {count}\")\n",
    "    count += 1"
   ]
  },
  {
   "cell_type": "code",
   "execution_count": null,
   "metadata": {},
   "outputs": [
    {
     "name": "stdout",
     "output_type": "stream",
     "text": [
      "Time: 7 units, Remaining Mass: 0.78125 grams\n"
     ]
    }
   ],
   "source": [
    "initial_mass = 100 # in grams\n",
    "decay_rate = 0.5 # half-life fraction\n",
    "\n",
    "time = 0\n",
    "while initial_mass > 1:\n",
    "    initial_mass = initial_mass * decay_rate\n",
    "    time += 1\n",
    "\n",
    "print(f\"Time: {time} units, Remaining Mass: {initial_mass} grams\")"
   ]
  },
  {
   "cell_type": "markdown",
   "metadata": {},
   "source": [
    "## Nested Loops"
   ]
  },
  {
   "cell_type": "markdown",
   "metadata": {},
   "source": [
    "A nested loop occurs when one loop is executed inside another. These loops are particularly valuable for traversing multiple sequences, such as lists of lists, or other combinations of sequences. Nested loops allow you to process each element of an inner sequence for every element of an outer sequence. This is especially beneficial when working with multi-dimensional data or intricate structures. By combining different types of loops, nested loops make it possible to address more complex tasks, like navigating multi-dimensional datasets or simulating advanced scenarios."
   ]
  },
  {
   "cell_type": "code",
   "execution_count": 21,
   "metadata": {},
   "outputs": [
    {
     "name": "stdout",
     "output_type": "stream",
     "text": [
      "i=0, j=0\n",
      "i=0, j=1\n",
      "i=1, j=0\n",
      "i=1, j=1\n",
      "i=2, j=0\n",
      "i=2, j=1\n"
     ]
    }
   ],
   "source": [
    "# a simple example\n",
    "for i in range(3): # outer loop\n",
    "    for j in range(2): # inner loop\n",
    "        print(f\"i={i}, j={j}\")"
   ]
  },
  {
   "cell_type": "markdown",
   "metadata": {},
   "source": [
    "In the example above, observe that the inner loop completes its full cycle and resets with each iteration of the outer loop. This pattern is characteristic of nested loops, where the inner loop runs entirely for every pass of the outer loop. Nested loops are highly effective for working with multi-dimensional data, allowing you to traverse complex structures and perform detailed operations with ease."
   ]
  },
  {
   "cell_type": "markdown",
   "metadata": {},
   "source": [
    "There is a cost to using nested loops, however. As the number of nested loops increases, the complexity of the code grows, and the execution time can become longer. It’s essential to balance the benefits of nested loops against the potential performance impact, especially when working with large datasets or complex structures."
   ]
  },
  {
   "cell_type": "markdown",
   "metadata": {},
   "source": [
    "### Loop Control Statements"
   ]
  },
  {
   "cell_type": "markdown",
   "metadata": {},
   "source": [
    "`break` and `continue` are loop control statements that modify how a loop runs. They help manage loop behavior more precisely:\n",
    "- `break`: __Stops__ the loop instantly and proceeds with the next statement following the loop. It’s useful for exiting a loop when a specific condition is met, such as stopping a search once the desired item is found. It also helps to avoid unnecessary computations by ending the loop early when further processing is no longer needed.\n",
    "- `continue`: __Skips__ the remainder of the current iteration and moves directly to the next one in the loop. This is particularly useful in scenarios such as skipping specific cases, like _ignoring invalid inputs_ during data processing. It also enables selective processing by continuing the loop while _avoiding unnecessary operations_ for certain conditions, ensuring that only relevant cases are handled."
   ]
  },
  {
   "cell_type": "code",
   "execution_count": 1,
   "metadata": {},
   "outputs": [
    {
     "name": "stdout",
     "output_type": "stream",
     "text": [
      "0\n",
      "1\n",
      "2\n"
     ]
    }
   ],
   "source": [
    "# Example using break\n",
    "for i in range(5):\n",
    "    if i == 3: # When the loop encounters i=3 (meeting the specified condition), it will exit the loop.\n",
    "        break\n",
    "    print(i)"
   ]
  },
  {
   "cell_type": "code",
   "execution_count": 24,
   "metadata": {},
   "outputs": [
    {
     "name": "stdout",
     "output_type": "stream",
     "text": [
      "0\n",
      "1\n",
      "2\n",
      "4\n"
     ]
    }
   ],
   "source": [
    "# Example using continue\n",
    "for i in range(5):\n",
    "    if i == 3: # When the loop encounters i=3 (meeting the specified condition), it will skip the current iteration and continue with the next iteration.\n",
    "        continue\n",
    "    print(i)"
   ]
  },
  {
   "cell_type": "code",
   "execution_count": 31,
   "metadata": {},
   "outputs": [
    {
     "name": "stdout",
     "output_type": "stream",
     "text": [
      "The result of the series is 25\n"
     ]
    }
   ],
   "source": [
    "# More practical example\n",
    "n_terms = 10\n",
    "result = 0\n",
    "\n",
    "for n in range(1, n_terms + 1): # Starts from 1 and goes up to n_terms\n",
    "    if n % 2 == 0: # Skip even terms\n",
    "        continue\n",
    "    result = result + n # Add only odd terms\n",
    "\n",
    "print(f\"The result of the series is {result}\")"
   ]
  },
  {
   "cell_type": "markdown",
   "metadata": {},
   "source": [
    "Some tips to keep in mind when using break and continue:\n",
    "- Use `break` sparingly to ensure your code remains readable and doesn’t exit unexpectedly.\n",
    "- Use `continue` to simplify conditions, but avoid overusing it in ways that make loops harder to follow."
   ]
  },
  {
   "cell_type": "markdown",
   "metadata": {},
   "source": []
  }
 ],
 "metadata": {
  "kernelspec": {
   "display_name": "myenv",
   "language": "python",
   "name": "python3"
  },
  "language_info": {
   "codemirror_mode": {
    "name": "ipython",
    "version": 3
   },
   "file_extension": ".py",
   "mimetype": "text/x-python",
   "name": "python",
   "nbconvert_exporter": "python",
   "pygments_lexer": "ipython3",
   "version": "3.8.20"
  }
 },
 "nbformat": 4,
 "nbformat_minor": 2
}
